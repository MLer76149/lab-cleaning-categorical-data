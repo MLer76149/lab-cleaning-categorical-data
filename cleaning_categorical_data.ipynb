{
 "cells": [
  {
   "cell_type": "code",
   "execution_count": 80,
   "metadata": {},
   "outputs": [],
   "source": [
    "# 1. Import the necessary libraries if you are starting a new notebook. \n",
    "# Using the same data as the previous lab: we_fn_use_c_marketing_customer_value_analysis.csv"
   ]
  },
  {
   "cell_type": "code",
   "execution_count": 114,
   "metadata": {},
   "outputs": [],
   "source": [
    "import pandas as pd\n",
    "import numpy as np\n",
    "import scipy.stats as st\n",
    "from datetime import date"
   ]
  },
  {
   "cell_type": "code",
   "execution_count": 82,
   "metadata": {},
   "outputs": [],
   "source": [
    "customer_df = pd.read_csv(\"files_for_lab/we_fn_use_c_marketing_customer_value_analysis.csv\")"
   ]
  },
  {
   "cell_type": "code",
   "execution_count": 83,
   "metadata": {},
   "outputs": [],
   "source": [
    "# 2. Find all of the categorical data. Save it in a categorical_df variable."
   ]
  },
  {
   "cell_type": "code",
   "execution_count": 84,
   "metadata": {},
   "outputs": [],
   "source": [
    "categorical_df = customer_df.select_dtypes([object])"
   ]
  },
  {
   "cell_type": "code",
   "execution_count": 85,
   "metadata": {},
   "outputs": [
    {
     "data": {
      "text/html": [
       "<div>\n",
       "<style scoped>\n",
       "    .dataframe tbody tr th:only-of-type {\n",
       "        vertical-align: middle;\n",
       "    }\n",
       "\n",
       "    .dataframe tbody tr th {\n",
       "        vertical-align: top;\n",
       "    }\n",
       "\n",
       "    .dataframe thead th {\n",
       "        text-align: right;\n",
       "    }\n",
       "</style>\n",
       "<table border=\"1\" class=\"dataframe\">\n",
       "  <thead>\n",
       "    <tr style=\"text-align: right;\">\n",
       "      <th></th>\n",
       "      <th>Customer</th>\n",
       "      <th>State</th>\n",
       "      <th>Response</th>\n",
       "      <th>Coverage</th>\n",
       "      <th>Education</th>\n",
       "      <th>Effective To Date</th>\n",
       "      <th>EmploymentStatus</th>\n",
       "      <th>Gender</th>\n",
       "      <th>Location Code</th>\n",
       "      <th>Marital Status</th>\n",
       "      <th>Policy Type</th>\n",
       "      <th>Policy</th>\n",
       "      <th>Renew Offer Type</th>\n",
       "      <th>Sales Channel</th>\n",
       "      <th>Vehicle Class</th>\n",
       "      <th>Vehicle Size</th>\n",
       "    </tr>\n",
       "  </thead>\n",
       "  <tbody>\n",
       "    <tr>\n",
       "      <th>0</th>\n",
       "      <td>BU79786</td>\n",
       "      <td>Washington</td>\n",
       "      <td>No</td>\n",
       "      <td>Basic</td>\n",
       "      <td>Bachelor</td>\n",
       "      <td>2/24/11</td>\n",
       "      <td>Employed</td>\n",
       "      <td>F</td>\n",
       "      <td>Suburban</td>\n",
       "      <td>Married</td>\n",
       "      <td>Corporate Auto</td>\n",
       "      <td>Corporate L3</td>\n",
       "      <td>Offer1</td>\n",
       "      <td>Agent</td>\n",
       "      <td>Two-Door Car</td>\n",
       "      <td>Medsize</td>\n",
       "    </tr>\n",
       "    <tr>\n",
       "      <th>1</th>\n",
       "      <td>QZ44356</td>\n",
       "      <td>Arizona</td>\n",
       "      <td>No</td>\n",
       "      <td>Extended</td>\n",
       "      <td>Bachelor</td>\n",
       "      <td>1/31/11</td>\n",
       "      <td>Unemployed</td>\n",
       "      <td>F</td>\n",
       "      <td>Suburban</td>\n",
       "      <td>Single</td>\n",
       "      <td>Personal Auto</td>\n",
       "      <td>Personal L3</td>\n",
       "      <td>Offer3</td>\n",
       "      <td>Agent</td>\n",
       "      <td>Four-Door Car</td>\n",
       "      <td>Medsize</td>\n",
       "    </tr>\n",
       "    <tr>\n",
       "      <th>2</th>\n",
       "      <td>AI49188</td>\n",
       "      <td>Nevada</td>\n",
       "      <td>No</td>\n",
       "      <td>Premium</td>\n",
       "      <td>Bachelor</td>\n",
       "      <td>2/19/11</td>\n",
       "      <td>Employed</td>\n",
       "      <td>F</td>\n",
       "      <td>Suburban</td>\n",
       "      <td>Married</td>\n",
       "      <td>Personal Auto</td>\n",
       "      <td>Personal L3</td>\n",
       "      <td>Offer1</td>\n",
       "      <td>Agent</td>\n",
       "      <td>Two-Door Car</td>\n",
       "      <td>Medsize</td>\n",
       "    </tr>\n",
       "    <tr>\n",
       "      <th>3</th>\n",
       "      <td>WW63253</td>\n",
       "      <td>California</td>\n",
       "      <td>No</td>\n",
       "      <td>Basic</td>\n",
       "      <td>Bachelor</td>\n",
       "      <td>1/20/11</td>\n",
       "      <td>Unemployed</td>\n",
       "      <td>M</td>\n",
       "      <td>Suburban</td>\n",
       "      <td>Married</td>\n",
       "      <td>Corporate Auto</td>\n",
       "      <td>Corporate L2</td>\n",
       "      <td>Offer1</td>\n",
       "      <td>Call Center</td>\n",
       "      <td>SUV</td>\n",
       "      <td>Medsize</td>\n",
       "    </tr>\n",
       "    <tr>\n",
       "      <th>4</th>\n",
       "      <td>HB64268</td>\n",
       "      <td>Washington</td>\n",
       "      <td>No</td>\n",
       "      <td>Basic</td>\n",
       "      <td>Bachelor</td>\n",
       "      <td>2/3/11</td>\n",
       "      <td>Employed</td>\n",
       "      <td>M</td>\n",
       "      <td>Rural</td>\n",
       "      <td>Single</td>\n",
       "      <td>Personal Auto</td>\n",
       "      <td>Personal L1</td>\n",
       "      <td>Offer1</td>\n",
       "      <td>Agent</td>\n",
       "      <td>Four-Door Car</td>\n",
       "      <td>Medsize</td>\n",
       "    </tr>\n",
       "    <tr>\n",
       "      <th>...</th>\n",
       "      <td>...</td>\n",
       "      <td>...</td>\n",
       "      <td>...</td>\n",
       "      <td>...</td>\n",
       "      <td>...</td>\n",
       "      <td>...</td>\n",
       "      <td>...</td>\n",
       "      <td>...</td>\n",
       "      <td>...</td>\n",
       "      <td>...</td>\n",
       "      <td>...</td>\n",
       "      <td>...</td>\n",
       "      <td>...</td>\n",
       "      <td>...</td>\n",
       "      <td>...</td>\n",
       "      <td>...</td>\n",
       "    </tr>\n",
       "    <tr>\n",
       "      <th>9129</th>\n",
       "      <td>LA72316</td>\n",
       "      <td>California</td>\n",
       "      <td>No</td>\n",
       "      <td>Basic</td>\n",
       "      <td>Bachelor</td>\n",
       "      <td>2/10/11</td>\n",
       "      <td>Employed</td>\n",
       "      <td>M</td>\n",
       "      <td>Urban</td>\n",
       "      <td>Married</td>\n",
       "      <td>Personal Auto</td>\n",
       "      <td>Personal L1</td>\n",
       "      <td>Offer2</td>\n",
       "      <td>Web</td>\n",
       "      <td>Four-Door Car</td>\n",
       "      <td>Medsize</td>\n",
       "    </tr>\n",
       "    <tr>\n",
       "      <th>9130</th>\n",
       "      <td>PK87824</td>\n",
       "      <td>California</td>\n",
       "      <td>Yes</td>\n",
       "      <td>Extended</td>\n",
       "      <td>College</td>\n",
       "      <td>2/12/11</td>\n",
       "      <td>Employed</td>\n",
       "      <td>F</td>\n",
       "      <td>Suburban</td>\n",
       "      <td>Divorced</td>\n",
       "      <td>Corporate Auto</td>\n",
       "      <td>Corporate L3</td>\n",
       "      <td>Offer1</td>\n",
       "      <td>Branch</td>\n",
       "      <td>Four-Door Car</td>\n",
       "      <td>Medsize</td>\n",
       "    </tr>\n",
       "    <tr>\n",
       "      <th>9131</th>\n",
       "      <td>TD14365</td>\n",
       "      <td>California</td>\n",
       "      <td>No</td>\n",
       "      <td>Extended</td>\n",
       "      <td>Bachelor</td>\n",
       "      <td>2/6/11</td>\n",
       "      <td>Unemployed</td>\n",
       "      <td>M</td>\n",
       "      <td>Suburban</td>\n",
       "      <td>Single</td>\n",
       "      <td>Corporate Auto</td>\n",
       "      <td>Corporate L2</td>\n",
       "      <td>Offer1</td>\n",
       "      <td>Branch</td>\n",
       "      <td>Four-Door Car</td>\n",
       "      <td>Medsize</td>\n",
       "    </tr>\n",
       "    <tr>\n",
       "      <th>9132</th>\n",
       "      <td>UP19263</td>\n",
       "      <td>California</td>\n",
       "      <td>No</td>\n",
       "      <td>Extended</td>\n",
       "      <td>College</td>\n",
       "      <td>2/3/11</td>\n",
       "      <td>Employed</td>\n",
       "      <td>M</td>\n",
       "      <td>Suburban</td>\n",
       "      <td>Married</td>\n",
       "      <td>Personal Auto</td>\n",
       "      <td>Personal L2</td>\n",
       "      <td>Offer3</td>\n",
       "      <td>Branch</td>\n",
       "      <td>Four-Door Car</td>\n",
       "      <td>Large</td>\n",
       "    </tr>\n",
       "    <tr>\n",
       "      <th>9133</th>\n",
       "      <td>Y167826</td>\n",
       "      <td>California</td>\n",
       "      <td>No</td>\n",
       "      <td>Extended</td>\n",
       "      <td>College</td>\n",
       "      <td>2/14/11</td>\n",
       "      <td>Unemployed</td>\n",
       "      <td>M</td>\n",
       "      <td>Suburban</td>\n",
       "      <td>Single</td>\n",
       "      <td>Corporate Auto</td>\n",
       "      <td>Corporate L3</td>\n",
       "      <td>Offer4</td>\n",
       "      <td>Call Center</td>\n",
       "      <td>Two-Door Car</td>\n",
       "      <td>Medsize</td>\n",
       "    </tr>\n",
       "  </tbody>\n",
       "</table>\n",
       "<p>9134 rows × 16 columns</p>\n",
       "</div>"
      ],
      "text/plain": [
       "     Customer       State Response  Coverage Education Effective To Date  \\\n",
       "0     BU79786  Washington       No     Basic  Bachelor           2/24/11   \n",
       "1     QZ44356     Arizona       No  Extended  Bachelor           1/31/11   \n",
       "2     AI49188      Nevada       No   Premium  Bachelor           2/19/11   \n",
       "3     WW63253  California       No     Basic  Bachelor           1/20/11   \n",
       "4     HB64268  Washington       No     Basic  Bachelor            2/3/11   \n",
       "...       ...         ...      ...       ...       ...               ...   \n",
       "9129  LA72316  California       No     Basic  Bachelor           2/10/11   \n",
       "9130  PK87824  California      Yes  Extended   College           2/12/11   \n",
       "9131  TD14365  California       No  Extended  Bachelor            2/6/11   \n",
       "9132  UP19263  California       No  Extended   College            2/3/11   \n",
       "9133  Y167826  California       No  Extended   College           2/14/11   \n",
       "\n",
       "     EmploymentStatus Gender Location Code Marital Status     Policy Type  \\\n",
       "0            Employed      F      Suburban        Married  Corporate Auto   \n",
       "1          Unemployed      F      Suburban         Single   Personal Auto   \n",
       "2            Employed      F      Suburban        Married   Personal Auto   \n",
       "3          Unemployed      M      Suburban        Married  Corporate Auto   \n",
       "4            Employed      M         Rural         Single   Personal Auto   \n",
       "...               ...    ...           ...            ...             ...   \n",
       "9129         Employed      M         Urban        Married   Personal Auto   \n",
       "9130         Employed      F      Suburban       Divorced  Corporate Auto   \n",
       "9131       Unemployed      M      Suburban         Single  Corporate Auto   \n",
       "9132         Employed      M      Suburban        Married   Personal Auto   \n",
       "9133       Unemployed      M      Suburban         Single  Corporate Auto   \n",
       "\n",
       "            Policy Renew Offer Type Sales Channel  Vehicle Class Vehicle Size  \n",
       "0     Corporate L3           Offer1         Agent   Two-Door Car      Medsize  \n",
       "1      Personal L3           Offer3         Agent  Four-Door Car      Medsize  \n",
       "2      Personal L3           Offer1         Agent   Two-Door Car      Medsize  \n",
       "3     Corporate L2           Offer1   Call Center            SUV      Medsize  \n",
       "4      Personal L1           Offer1         Agent  Four-Door Car      Medsize  \n",
       "...            ...              ...           ...            ...          ...  \n",
       "9129   Personal L1           Offer2           Web  Four-Door Car      Medsize  \n",
       "9130  Corporate L3           Offer1        Branch  Four-Door Car      Medsize  \n",
       "9131  Corporate L2           Offer1        Branch  Four-Door Car      Medsize  \n",
       "9132   Personal L2           Offer3        Branch  Four-Door Car        Large  \n",
       "9133  Corporate L3           Offer4   Call Center   Two-Door Car      Medsize  \n",
       "\n",
       "[9134 rows x 16 columns]"
      ]
     },
     "metadata": {},
     "output_type": "display_data"
    }
   ],
   "source": [
    "display(categorical_df)"
   ]
  },
  {
   "cell_type": "code",
   "execution_count": 86,
   "metadata": {},
   "outputs": [],
   "source": [
    "# 3. Check for NaN values."
   ]
  },
  {
   "cell_type": "code",
   "execution_count": 87,
   "metadata": {},
   "outputs": [
    {
     "data": {
      "text/plain": [
       "Customer             0\n",
       "State                0\n",
       "Response             0\n",
       "Coverage             0\n",
       "Education            0\n",
       "Effective To Date    0\n",
       "EmploymentStatus     0\n",
       "Gender               0\n",
       "Location Code        0\n",
       "Marital Status       0\n",
       "Policy Type          0\n",
       "Policy               0\n",
       "Renew Offer Type     0\n",
       "Sales Channel        0\n",
       "Vehicle Class        0\n",
       "Vehicle Size         0\n",
       "dtype: int64"
      ]
     },
     "execution_count": 87,
     "metadata": {},
     "output_type": "execute_result"
    }
   ],
   "source": [
    "categorical_df.isna().sum()"
   ]
  },
  {
   "cell_type": "code",
   "execution_count": 88,
   "metadata": {},
   "outputs": [],
   "source": [
    "# 4. Check all unique values of columns."
   ]
  },
  {
   "cell_type": "code",
   "execution_count": 109,
   "metadata": {},
   "outputs": [],
   "source": [
    "def check_unique(df):\n",
    "    for item in df.columns:\n",
    "        print(item)\n",
    "        display(df[item].unique())\n",
    "        display(df[item].value_counts())"
   ]
  },
  {
   "cell_type": "code",
   "execution_count": 110,
   "metadata": {},
   "outputs": [
    {
     "name": "stdout",
     "output_type": "stream",
     "text": [
      "Customer\n"
     ]
    },
    {
     "data": {
      "text/plain": [
       "array(['BU79786', 'QZ44356', 'AI49188', ..., 'TD14365', 'UP19263',\n",
       "       'Y167826'], dtype=object)"
      ]
     },
     "metadata": {},
     "output_type": "display_data"
    },
    {
     "data": {
      "text/plain": [
       "FB80807    1\n",
       "TV75816    1\n",
       "NR49426    1\n",
       "YA83600    1\n",
       "PR21713    1\n",
       "          ..\n",
       "DV85764    1\n",
       "WN69789    1\n",
       "PS28082    1\n",
       "AQ34238    1\n",
       "EG94409    1\n",
       "Name: Customer, Length: 9134, dtype: int64"
      ]
     },
     "metadata": {},
     "output_type": "display_data"
    },
    {
     "name": "stdout",
     "output_type": "stream",
     "text": [
      "State\n"
     ]
    },
    {
     "data": {
      "text/plain": [
       "array(['Washington', 'Arizona', 'Nevada', 'California', 'Oregon'],\n",
       "      dtype=object)"
      ]
     },
     "metadata": {},
     "output_type": "display_data"
    },
    {
     "data": {
      "text/plain": [
       "California    3150\n",
       "Oregon        2601\n",
       "Arizona       1703\n",
       "Nevada         882\n",
       "Washington     798\n",
       "Name: State, dtype: int64"
      ]
     },
     "metadata": {},
     "output_type": "display_data"
    },
    {
     "name": "stdout",
     "output_type": "stream",
     "text": [
      "Response\n"
     ]
    },
    {
     "data": {
      "text/plain": [
       "array(['No', 'Yes'], dtype=object)"
      ]
     },
     "metadata": {},
     "output_type": "display_data"
    },
    {
     "data": {
      "text/plain": [
       "No     7826\n",
       "Yes    1308\n",
       "Name: Response, dtype: int64"
      ]
     },
     "metadata": {},
     "output_type": "display_data"
    },
    {
     "name": "stdout",
     "output_type": "stream",
     "text": [
      "Coverage\n"
     ]
    },
    {
     "data": {
      "text/plain": [
       "array(['Basic', 'Extended', 'Premium'], dtype=object)"
      ]
     },
     "metadata": {},
     "output_type": "display_data"
    },
    {
     "data": {
      "text/plain": [
       "Basic       5568\n",
       "Extended    2742\n",
       "Premium      824\n",
       "Name: Coverage, dtype: int64"
      ]
     },
     "metadata": {},
     "output_type": "display_data"
    },
    {
     "name": "stdout",
     "output_type": "stream",
     "text": [
      "Education\n"
     ]
    },
    {
     "data": {
      "text/plain": [
       "array(['Bachelor', 'College', 'Master', 'High School or Below', 'Doctor'],\n",
       "      dtype=object)"
      ]
     },
     "metadata": {},
     "output_type": "display_data"
    },
    {
     "data": {
      "text/plain": [
       "Bachelor                2748\n",
       "College                 2681\n",
       "High School or Below    2622\n",
       "Master                   741\n",
       "Doctor                   342\n",
       "Name: Education, dtype: int64"
      ]
     },
     "metadata": {},
     "output_type": "display_data"
    },
    {
     "name": "stdout",
     "output_type": "stream",
     "text": [
      "Effective To Date\n"
     ]
    },
    {
     "data": {
      "text/plain": [
       "array(['2011-02-24T00:00:00.000000000', '2011-01-31T00:00:00.000000000',\n",
       "       '2011-02-19T00:00:00.000000000', '2011-01-20T00:00:00.000000000',\n",
       "       '2011-02-03T00:00:00.000000000', '2011-01-25T00:00:00.000000000',\n",
       "       '2011-01-18T00:00:00.000000000', '2011-01-26T00:00:00.000000000',\n",
       "       '2011-02-17T00:00:00.000000000', '2011-02-21T00:00:00.000000000',\n",
       "       '2011-01-06T00:00:00.000000000', '2011-02-06T00:00:00.000000000',\n",
       "       '2011-01-10T00:00:00.000000000', '2011-01-17T00:00:00.000000000',\n",
       "       '2011-01-05T00:00:00.000000000', '2011-02-27T00:00:00.000000000',\n",
       "       '2011-01-14T00:00:00.000000000', '2011-01-21T00:00:00.000000000',\n",
       "       '2011-02-05T00:00:00.000000000', '2011-01-29T00:00:00.000000000',\n",
       "       '2011-02-28T00:00:00.000000000', '2011-02-12T00:00:00.000000000',\n",
       "       '2011-02-02T00:00:00.000000000', '2011-02-07T00:00:00.000000000',\n",
       "       '2011-01-22T00:00:00.000000000', '2011-02-13T00:00:00.000000000',\n",
       "       '2011-01-15T00:00:00.000000000', '2011-01-08T00:00:00.000000000',\n",
       "       '2011-01-11T00:00:00.000000000', '2011-01-28T00:00:00.000000000',\n",
       "       '2011-02-08T00:00:00.000000000', '2011-02-23T00:00:00.000000000',\n",
       "       '2011-01-02T00:00:00.000000000', '2011-02-16T00:00:00.000000000',\n",
       "       '2011-01-27T00:00:00.000000000', '2011-01-23T00:00:00.000000000',\n",
       "       '2011-01-09T00:00:00.000000000', '2011-02-11T00:00:00.000000000',\n",
       "       '2011-02-04T00:00:00.000000000', '2011-02-01T00:00:00.000000000',\n",
       "       '2011-02-15T00:00:00.000000000', '2011-02-26T00:00:00.000000000',\n",
       "       '2011-01-16T00:00:00.000000000', '2011-01-01T00:00:00.000000000',\n",
       "       '2011-02-10T00:00:00.000000000', '2011-01-24T00:00:00.000000000',\n",
       "       '2011-02-25T00:00:00.000000000', '2011-01-12T00:00:00.000000000',\n",
       "       '2011-02-09T00:00:00.000000000', '2011-01-19T00:00:00.000000000',\n",
       "       '2011-01-04T00:00:00.000000000', '2011-02-14T00:00:00.000000000',\n",
       "       '2011-02-20T00:00:00.000000000', '2011-02-18T00:00:00.000000000',\n",
       "       '2011-01-03T00:00:00.000000000', '2011-01-13T00:00:00.000000000',\n",
       "       '2011-01-30T00:00:00.000000000', '2011-02-22T00:00:00.000000000',\n",
       "       '2011-01-07T00:00:00.000000000'], dtype='datetime64[ns]')"
      ]
     },
     "metadata": {},
     "output_type": "display_data"
    },
    {
     "data": {
      "text/plain": [
       "2011-01-10    195\n",
       "2011-01-27    194\n",
       "2011-02-14    186\n",
       "2011-01-26    181\n",
       "2011-01-17    180\n",
       "2011-01-19    179\n",
       "2011-01-03    178\n",
       "2011-01-31    178\n",
       "2011-01-20    173\n",
       "2011-01-28    169\n",
       "2011-02-26    169\n",
       "2011-02-19    168\n",
       "2011-02-27    167\n",
       "2011-01-05    167\n",
       "2011-01-11    166\n",
       "2011-02-04    164\n",
       "2011-02-28    161\n",
       "2011-02-10    161\n",
       "2011-01-02    160\n",
       "2011-01-21    160\n",
       "2011-01-29    160\n",
       "2011-02-22    158\n",
       "2011-02-05    158\n",
       "2011-02-03    158\n",
       "2011-02-07    157\n",
       "2011-02-12    156\n",
       "2011-01-23    155\n",
       "2011-01-18    154\n",
       "2011-02-01    154\n",
       "2011-01-15    153\n",
       "2011-01-14    152\n",
       "2011-01-07    151\n",
       "2011-01-25    151\n",
       "2011-02-11    151\n",
       "2011-01-08    149\n",
       "2011-02-02    149\n",
       "2011-02-18    149\n",
       "2011-02-25    149\n",
       "2011-01-01    148\n",
       "2011-02-21    148\n",
       "2011-01-24    147\n",
       "2011-01-09    146\n",
       "2011-01-13    145\n",
       "2011-01-30    145\n",
       "2011-02-06    144\n",
       "2011-01-06    143\n",
       "2011-02-23    143\n",
       "2011-01-16    142\n",
       "2011-02-24    139\n",
       "2011-02-16    139\n",
       "2011-02-13    139\n",
       "2011-02-09    137\n",
       "2011-01-22    136\n",
       "2011-02-17    136\n",
       "2011-02-08    134\n",
       "2011-02-20    132\n",
       "2011-02-15    130\n",
       "2011-01-12    126\n",
       "2011-01-04    115\n",
       "Name: Effective To Date, dtype: int64"
      ]
     },
     "metadata": {},
     "output_type": "display_data"
    },
    {
     "name": "stdout",
     "output_type": "stream",
     "text": [
      "EmploymentStatus\n"
     ]
    },
    {
     "data": {
      "text/plain": [
       "array(['Employed', 'Unemployed', 'Medical Leave', 'Disabled', 'Retired'],\n",
       "      dtype=object)"
      ]
     },
     "metadata": {},
     "output_type": "display_data"
    },
    {
     "data": {
      "text/plain": [
       "Employed         5698\n",
       "Unemployed       2317\n",
       "Medical Leave     432\n",
       "Disabled          405\n",
       "Retired           282\n",
       "Name: EmploymentStatus, dtype: int64"
      ]
     },
     "metadata": {},
     "output_type": "display_data"
    },
    {
     "name": "stdout",
     "output_type": "stream",
     "text": [
      "Gender\n"
     ]
    },
    {
     "data": {
      "text/plain": [
       "array(['F', 'M'], dtype=object)"
      ]
     },
     "metadata": {},
     "output_type": "display_data"
    },
    {
     "data": {
      "text/plain": [
       "F    4658\n",
       "M    4476\n",
       "Name: Gender, dtype: int64"
      ]
     },
     "metadata": {},
     "output_type": "display_data"
    },
    {
     "name": "stdout",
     "output_type": "stream",
     "text": [
      "Location Code\n"
     ]
    },
    {
     "data": {
      "text/plain": [
       "array(['Suburban', 'Rural', 'Urban'], dtype=object)"
      ]
     },
     "metadata": {},
     "output_type": "display_data"
    },
    {
     "data": {
      "text/plain": [
       "Suburban    5779\n",
       "Rural       1773\n",
       "Urban       1582\n",
       "Name: Location Code, dtype: int64"
      ]
     },
     "metadata": {},
     "output_type": "display_data"
    },
    {
     "name": "stdout",
     "output_type": "stream",
     "text": [
      "Marital Status\n"
     ]
    },
    {
     "data": {
      "text/plain": [
       "array(['Married', 'Single', 'Divorced'], dtype=object)"
      ]
     },
     "metadata": {},
     "output_type": "display_data"
    },
    {
     "data": {
      "text/plain": [
       "Married     5298\n",
       "Single      2467\n",
       "Divorced    1369\n",
       "Name: Marital Status, dtype: int64"
      ]
     },
     "metadata": {},
     "output_type": "display_data"
    },
    {
     "name": "stdout",
     "output_type": "stream",
     "text": [
      "Policy Type\n"
     ]
    },
    {
     "data": {
      "text/plain": [
       "array(['Corporate Auto', 'Personal Auto', 'Special Auto'], dtype=object)"
      ]
     },
     "metadata": {},
     "output_type": "display_data"
    },
    {
     "data": {
      "text/plain": [
       "Personal Auto     6788\n",
       "Corporate Auto    1968\n",
       "Special Auto       378\n",
       "Name: Policy Type, dtype: int64"
      ]
     },
     "metadata": {},
     "output_type": "display_data"
    },
    {
     "name": "stdout",
     "output_type": "stream",
     "text": [
      "Policy\n"
     ]
    },
    {
     "data": {
      "text/plain": [
       "array(['Corporate L3', 'Personal L3', 'Corporate L2', 'Personal L1',\n",
       "       'Special L2', 'Corporate L1', 'Personal L2', 'Special L1',\n",
       "       'Special L3'], dtype=object)"
      ]
     },
     "metadata": {},
     "output_type": "display_data"
    },
    {
     "data": {
      "text/plain": [
       "Personal L3     3426\n",
       "Personal L2     2122\n",
       "Personal L1     1240\n",
       "Corporate L3    1014\n",
       "Corporate L2     595\n",
       "Corporate L1     359\n",
       "Special L2       164\n",
       "Special L3       148\n",
       "Special L1        66\n",
       "Name: Policy, dtype: int64"
      ]
     },
     "metadata": {},
     "output_type": "display_data"
    },
    {
     "name": "stdout",
     "output_type": "stream",
     "text": [
      "Renew Offer Type\n"
     ]
    },
    {
     "data": {
      "text/plain": [
       "array(['Offer1', 'Offer3', 'Offer2', 'Offer4'], dtype=object)"
      ]
     },
     "metadata": {},
     "output_type": "display_data"
    },
    {
     "data": {
      "text/plain": [
       "Offer1    3752\n",
       "Offer2    2926\n",
       "Offer3    1432\n",
       "Offer4    1024\n",
       "Name: Renew Offer Type, dtype: int64"
      ]
     },
     "metadata": {},
     "output_type": "display_data"
    },
    {
     "name": "stdout",
     "output_type": "stream",
     "text": [
      "Sales Channel\n"
     ]
    },
    {
     "data": {
      "text/plain": [
       "array(['Agent', 'Call Center', 'Web', 'Branch'], dtype=object)"
      ]
     },
     "metadata": {},
     "output_type": "display_data"
    },
    {
     "data": {
      "text/plain": [
       "Agent          3477\n",
       "Branch         2567\n",
       "Call Center    1765\n",
       "Web            1325\n",
       "Name: Sales Channel, dtype: int64"
      ]
     },
     "metadata": {},
     "output_type": "display_data"
    },
    {
     "name": "stdout",
     "output_type": "stream",
     "text": [
      "Vehicle Class\n"
     ]
    },
    {
     "data": {
      "text/plain": [
       "array(['Two-Door Car', 'Four-Door Car', 'SUV', 'Luxury SUV', 'Sports Car',\n",
       "       'Luxury Car'], dtype=object)"
      ]
     },
     "metadata": {},
     "output_type": "display_data"
    },
    {
     "data": {
      "text/plain": [
       "Four-Door Car    4621\n",
       "Two-Door Car     1886\n",
       "SUV              1796\n",
       "Sports Car        484\n",
       "Luxury SUV        184\n",
       "Luxury Car        163\n",
       "Name: Vehicle Class, dtype: int64"
      ]
     },
     "metadata": {},
     "output_type": "display_data"
    },
    {
     "name": "stdout",
     "output_type": "stream",
     "text": [
      "Vehicle Size\n"
     ]
    },
    {
     "data": {
      "text/plain": [
       "array(['Medsize', 'Small', 'Large'], dtype=object)"
      ]
     },
     "metadata": {},
     "output_type": "display_data"
    },
    {
     "data": {
      "text/plain": [
       "Medsize    6424\n",
       "Small      1764\n",
       "Large       946\n",
       "Name: Vehicle Size, dtype: int64"
      ]
     },
     "metadata": {},
     "output_type": "display_data"
    },
    {
     "name": "stdout",
     "output_type": "stream",
     "text": [
      "Customer_alpha\n"
     ]
    },
    {
     "data": {
      "text/plain": [
       "array(['BU', 'QZ', 'AI', 'WW', 'HB', 'OC', 'XZ', 'CF', 'DY', 'BQ', 'SX',\n",
       "       'VQ', 'DP', 'SJ', 'IL', 'BW', 'FV', 'OE', 'WC', 'FL', 'ZK', 'SV',\n",
       "       'YH', 'TZ', 'HM', 'FS', 'US', 'HO', 'GE', 'EJ', 'UL', 'PF', 'AO',\n",
       "       'SK', 'YV', 'KY', 'DM', 'CM', 'QG', 'MB', 'SR', 'DH', 'HG', 'XM',\n",
       "       'KP', 'SH', 'WE', 'PY', 'RB', 'XR', 'FR', 'SY', 'AP', 'ML', 'UB',\n",
       "       'CD', 'RU', 'FG', 'NN', 'WB', 'SM', 'GW', 'RZ', 'MO', 'HW', 'BN',\n",
       "       'YX', 'DZ', 'XW', 'LN', 'OM', 'ZU', 'VH', 'DT', 'YJ', 'SQ', 'HF',\n",
       "       'ET', 'QC', 'CJ', 'OI', 'JY', 'CZ', 'WK', 'ON', 'TV', 'KH', 'NZ',\n",
       "       'RI', 'FZ', 'UG', 'AB', 'XK', 'EV', 'UN', 'TO', 'MR', 'DE', 'EP',\n",
       "       'GU', 'WI', 'YQ', 'MQ', 'KN', 'CR', 'JI', 'VF', 'OX', 'OO', 'YT',\n",
       "       'CW', 'EM', 'FH', 'XA', 'GO', 'QH', 'UH', 'QA', 'TQ', 'MS', 'PU',\n",
       "       'AZ', 'DS', 'OJ', 'LP', 'LM', 'XC', 'YC', 'EK', 'GD', 'WA', 'PD',\n",
       "       'BS', 'YM', 'NR', 'RC', 'CC', 'KA', 'OS', 'ND', 'YL', 'JP', 'HL',\n",
       "       'IC', 'BE', 'HT', 'TH', 'TS', 'QR', 'DX', 'IS', 'IX', 'HH', 'IU',\n",
       "       'KC', 'NK', 'OZ', 'UF', 'XP', 'GK', 'RV', 'II', 'TR', 'EO', 'EN',\n",
       "       'ZW', 'EH', 'MW', 'SL', 'UO', 'ZX', 'XX', 'SD', 'OY', 'BG', 'IP',\n",
       "       'LE', 'KX', 'EZ', 'XN', 'IT', 'CO', 'LK', 'YS', 'UK', 'TE', 'RA',\n",
       "       'KQ', 'WU', 'XV', 'KO', 'HI', 'PT', 'BH', 'TX', 'CT', 'LF', 'CN',\n",
       "       'UW', 'HP', 'PP', 'RO', 'FO', 'HR', 'IA', 'PK', 'OD', 'GY', 'JM',\n",
       "       'QX', 'JU', 'UC', 'LW', 'OU', 'HS', 'VZ', 'UI', 'AE', 'XS', 'AY',\n",
       "       'NA', 'UA', 'DJ', 'VM', 'OH', 'NC', 'LQ', 'LA', 'NB', 'NT', 'AF',\n",
       "       'ZG', 'JQ', 'FE', 'JT', 'MC', 'EU', 'RH', 'WV', 'RK', 'MF', 'FM',\n",
       "       'RF', 'IM', 'VI', 'YR', 'RR', 'VC', 'TM', 'GJ', 'FY', 'FW', 'HD',\n",
       "       'AH', 'XI', 'DI', 'SC', 'DQ', 'JE', 'WS', 'ZA', 'EW', 'QW', 'KU',\n",
       "       'MJ', 'TW', 'VE', 'PX', 'NI', 'GN', 'QL', 'UV', 'CE', 'JL', 'JZ',\n",
       "       'QD', 'ES', 'JK', 'RN', 'BI', 'JA', 'JJ', 'BL', 'CP', 'NV', 'RM',\n",
       "       'GL', 'LL', 'BC', 'JF', 'BK', 'MK', 'IW', 'QP', 'ZM', 'QQ', 'HU',\n",
       "       'XH', 'ZH', 'AG', 'KB', 'GF', 'VV', 'OA', 'ZF', 'SF', 'OT', 'SW',\n",
       "       'JS', 'RE', 'LC', 'UX', 'RX', 'DW', 'EG', 'DB', 'JB', 'QN', 'ZY',\n",
       "       'IN', 'DF', 'MN', 'NL', 'UM', 'QY', 'NM', 'MZ', 'ID', 'EY', 'TT',\n",
       "       'IO', 'RQ', 'AU', 'ZN', 'EI', 'GV', 'QK', 'LU', 'NS', 'KL', 'LZ',\n",
       "       'YE', 'XD', 'PH', 'WQ', 'TC', 'CX', 'CK', 'JC', 'UQ', 'RP', 'ZR',\n",
       "       'NQ', 'PB', 'CV', 'EX', 'GM', 'BX', 'SG', 'FJ', 'CU', 'ZZ', 'BV',\n",
       "       'HX', 'RD', 'BT', 'VP', 'VU', 'TA', 'OQ', 'AW', 'MY', 'IB', 'KF',\n",
       "       'HK', 'PN', 'VW', 'WT', 'WO', 'PR', 'RJ', 'KI', 'FF', 'TN', 'PM',\n",
       "       'QV', 'QE', 'CQ', 'TL', 'FN', 'TU', 'IJ', 'OB', 'YI', 'NW', 'ME',\n",
       "       'SI', 'YD', 'CA', 'QT', 'UY', 'GT', 'NX', 'DA', 'GH', 'BD', 'JH',\n",
       "       'ZJ', 'PI', 'EL', 'DG', 'WP', 'TK', 'DN', 'SS', 'NG', 'ED', 'GP',\n",
       "       'ZC', 'HN', 'EB', 'SU', 'DL', 'OL', 'HQ', 'WR', 'GB', 'GI', 'VO',\n",
       "       'CY', 'TJ', 'ZQ', 'OV', 'WL', 'MP', 'DR', 'KM', 'OF', 'YB', 'BA',\n",
       "       'BB', 'MM', 'KR', 'VS', 'AM', 'QB', 'EA', 'PW', 'SN', 'PA', 'RT',\n",
       "       'BZ', 'WM', 'NH', 'BM', 'VY', 'WY', 'YG', 'FK', 'NE', 'ZO', 'CH',\n",
       "       'NY', 'UT', 'LB', 'KW', 'XO', 'FI', 'QM', 'VN', 'TF', 'CB', 'XG',\n",
       "       'UJ', 'TY', 'GR', 'DK', 'OR', 'FA', 'ST', 'AL', 'ZE', 'UU', 'XJ',\n",
       "       'FT', 'KJ', 'XT', 'SP', 'GC', 'IR', 'XF', 'QJ', 'QO', 'JX', 'SB',\n",
       "       'ZT', 'ZS', 'WZ', 'AA', 'TD', 'LY', 'VX', 'TP', 'VB', 'AQ', 'JO',\n",
       "       'RS', 'VT', 'WH', 'MT', 'TI', 'VA', 'PV', 'ZV', 'FB', 'AS', 'SA',\n",
       "       'VL', 'UP', 'HV', 'MG', 'JN', 'VK', 'EC', 'PO', 'NF', 'SZ', 'NJ',\n",
       "       'RG', 'BJ', 'MD', 'RY', 'IK', 'GQ', 'VJ', 'GS', 'OK', 'GG', 'KD',\n",
       "       'PS', 'MU', 'YO', 'WF', 'NU', 'SE', 'FU', 'VG', 'BR', 'PZ', 'LV',\n",
       "       'LH', 'CS', 'FX', 'HA', 'HJ', 'YN', 'ZB', 'DO', 'EF', 'NP', 'KT',\n",
       "       'LG', 'QF', 'MH', 'LT', 'QI', 'WJ', 'IG', 'AC', 'BF', 'IE', 'ZD',\n",
       "       'LD', 'JW', 'VD', 'IF', 'FD', 'JD', 'HZ', 'DU', 'XQ', 'WG', 'LO',\n",
       "       'JG', 'YF', 'LS', 'KK', 'ZI', 'MX', 'IQ', 'MA', 'XY', 'KG', 'XB',\n",
       "       'XE', 'UD', 'YP', 'PC', 'YY', 'PQ', 'JR', 'ZP', 'YA', 'PG', 'RW',\n",
       "       'AN', 'OP', 'EE', 'EQ', 'LX', 'LI', 'HC', 'BY', 'BP', 'QS', 'YU',\n",
       "       'IV', 'GX', 'WN', 'GZ', 'AT', 'IH', 'MI', 'DD', 'AV', 'FQ', 'KZ',\n",
       "       'ER', 'AJ', 'AR', 'QU', 'MV', 'RL', 'IY', 'TG', 'OG', 'LR', 'UR',\n",
       "       'CI', 'FP', 'KV', 'No', 'YZ', 'PE', 'IZ', 'TB', 'ZL', 'AX', 'HE',\n",
       "       'WX', 'JV', 'WD', 'PL', 'OW', 'FC', 'CL', 'HY', 'SO', 'DV', 'UE',\n",
       "       'YW', 'YK', 'XU', 'KE', 'GA', 'XL', 'BO', 'PJ', 'KS', 'CG', 'LJ',\n",
       "       'AK', 'DC', 'VR', 'AD', 'UZ', 'Y1'], dtype=object)"
      ]
     },
     "metadata": {},
     "output_type": "display_data"
    },
    {
     "data": {
      "text/plain": [
       "FG    28\n",
       "UF    27\n",
       "FP    25\n",
       "UI    24\n",
       "RA    24\n",
       "      ..\n",
       "VR     5\n",
       "YS     5\n",
       "IT     4\n",
       "RG     2\n",
       "Y1     1\n",
       "Name: Customer_alpha, Length: 677, dtype: int64"
      ]
     },
     "metadata": {},
     "output_type": "display_data"
    },
    {
     "name": "stdout",
     "output_type": "stream",
     "text": [
      "Customer_num\n"
     ]
    },
    {
     "data": {
      "text/plain": [
       "array([79786, 44356, 49188, ..., 14365, 19263, 67826], dtype=int64)"
      ]
     },
     "metadata": {},
     "output_type": "display_data"
    },
    {
     "data": {
      "text/plain": [
       "63956    4\n",
       "51200    3\n",
       "12347    3\n",
       "68427    3\n",
       "55977    3\n",
       "        ..\n",
       "55910    1\n",
       "53863    1\n",
       "25193    1\n",
       "62059    1\n",
       "32768    1\n",
       "Name: Customer_num, Length: 8688, dtype: int64"
      ]
     },
     "metadata": {},
     "output_type": "display_data"
    }
   ],
   "source": [
    "check_unique(categorical_df)"
   ]
  },
  {
   "cell_type": "code",
   "execution_count": 91,
   "metadata": {},
   "outputs": [
    {
     "data": {
      "text/plain": [
       "Customer             object\n",
       "State                object\n",
       "Response             object\n",
       "Coverage             object\n",
       "Education            object\n",
       "Effective To Date    object\n",
       "EmploymentStatus     object\n",
       "Gender               object\n",
       "Location Code        object\n",
       "Marital Status       object\n",
       "Policy Type          object\n",
       "Policy               object\n",
       "Renew Offer Type     object\n",
       "Sales Channel        object\n",
       "Vehicle Class        object\n",
       "Vehicle Size         object\n",
       "dtype: object"
      ]
     },
     "execution_count": 91,
     "metadata": {},
     "output_type": "execute_result"
    }
   ],
   "source": [
    "categorical_df.dtypes"
   ]
  },
  {
   "cell_type": "code",
   "execution_count": 92,
   "metadata": {},
   "outputs": [],
   "source": [
    "# 5. Check dtypes. Do they all make sense as categorical data?"
   ]
  },
  {
   "cell_type": "code",
   "execution_count": 93,
   "metadata": {},
   "outputs": [
    {
     "name": "stderr",
     "output_type": "stream",
     "text": [
      "<ipython-input-93-3e957c3f1f70>:1: SettingWithCopyWarning: \n",
      "A value is trying to be set on a copy of a slice from a DataFrame.\n",
      "Try using .loc[row_indexer,col_indexer] = value instead\n",
      "\n",
      "See the caveats in the documentation: https://pandas.pydata.org/pandas-docs/stable/user_guide/indexing.html#returning-a-view-versus-a-copy\n",
      "  categorical_df[\"Effective To Date\"] = pd.to_datetime(categorical_df[\"Effective To Date\"])\n"
     ]
    }
   ],
   "source": [
    "categorical_df[\"Effective To Date\"] = pd.to_datetime(categorical_df[\"Effective To Date\"])"
   ]
  },
  {
   "cell_type": "code",
   "execution_count": 94,
   "metadata": {},
   "outputs": [],
   "source": [
    "# 6. Does any column contain alpha and numeric data? Decide how to clean it."
   ]
  },
  {
   "cell_type": "code",
   "execution_count": 95,
   "metadata": {},
   "outputs": [
    {
     "name": "stderr",
     "output_type": "stream",
     "text": [
      "<ipython-input-95-6554b9e90c99>:1: SettingWithCopyWarning: \n",
      "A value is trying to be set on a copy of a slice from a DataFrame.\n",
      "Try using .loc[row_indexer,col_indexer] = value instead\n",
      "\n",
      "See the caveats in the documentation: https://pandas.pydata.org/pandas-docs/stable/user_guide/indexing.html#returning-a-view-versus-a-copy\n",
      "  categorical_df[\"Customer_alpha\"] = \"test\"\n",
      "<ipython-input-95-6554b9e90c99>:2: SettingWithCopyWarning: \n",
      "A value is trying to be set on a copy of a slice from a DataFrame.\n",
      "Try using .loc[row_indexer,col_indexer] = value instead\n",
      "\n",
      "See the caveats in the documentation: https://pandas.pydata.org/pandas-docs/stable/user_guide/indexing.html#returning-a-view-versus-a-copy\n",
      "  categorical_df[\"Customer_num\"] = \"test\"\n"
     ]
    }
   ],
   "source": [
    "categorical_df[\"Customer_alpha\"] = \"test\"\n",
    "categorical_df[\"Customer_num\"] = \"test\""
   ]
  },
  {
   "cell_type": "code",
   "execution_count": 104,
   "metadata": {},
   "outputs": [],
   "source": [
    "def sep_alpha_num(x,y,z):\n",
    "    y = x[0:2]\n",
    "    z = int(x[2:len(x)])\n",
    "    return y, z"
   ]
  },
  {
   "cell_type": "code",
   "execution_count": 105,
   "metadata": {},
   "outputs": [
    {
     "name": "stderr",
     "output_type": "stream",
     "text": [
      "<ipython-input-105-b0b67fefeb9d>:1: SettingWithCopyWarning: \n",
      "A value is trying to be set on a copy of a slice from a DataFrame.\n",
      "Try using .loc[row_indexer,col_indexer] = value instead\n",
      "\n",
      "See the caveats in the documentation: https://pandas.pydata.org/pandas-docs/stable/user_guide/indexing.html#returning-a-view-versus-a-copy\n",
      "  categorical_df[[\"Customer_alpha\", \"Customer_num\"]] = list(map(sep_alpha_num, categorical_df[\"Customer\"], categorical_df[\"Customer_alpha\"], categorical_df[\"Customer_num\"]))\n",
      "C:\\ProgramData\\Anaconda3\\lib\\site-packages\\pandas\\core\\indexing.py:966: SettingWithCopyWarning: \n",
      "A value is trying to be set on a copy of a slice from a DataFrame.\n",
      "Try using .loc[row_indexer,col_indexer] = value instead\n",
      "\n",
      "See the caveats in the documentation: https://pandas.pydata.org/pandas-docs/stable/user_guide/indexing.html#returning-a-view-versus-a-copy\n",
      "  self.obj[item] = s\n"
     ]
    }
   ],
   "source": [
    "categorical_df[[\"Customer_alpha\", \"Customer_num\"]] = list(map(sep_alpha_num, categorical_df[\"Customer\"], categorical_df[\"Customer_alpha\"], categorical_df[\"Customer_num\"]))"
   ]
  },
  {
   "cell_type": "code",
   "execution_count": null,
   "metadata": {},
   "outputs": [],
   "source": [
    "# cleaned it, but makes no sense in my opinion as we do not need the column \"Customer\""
   ]
  },
  {
   "cell_type": "code",
   "execution_count": 106,
   "metadata": {},
   "outputs": [
    {
     "data": {
      "text/html": [
       "<div>\n",
       "<style scoped>\n",
       "    .dataframe tbody tr th:only-of-type {\n",
       "        vertical-align: middle;\n",
       "    }\n",
       "\n",
       "    .dataframe tbody tr th {\n",
       "        vertical-align: top;\n",
       "    }\n",
       "\n",
       "    .dataframe thead th {\n",
       "        text-align: right;\n",
       "    }\n",
       "</style>\n",
       "<table border=\"1\" class=\"dataframe\">\n",
       "  <thead>\n",
       "    <tr style=\"text-align: right;\">\n",
       "      <th></th>\n",
       "      <th>Customer</th>\n",
       "      <th>State</th>\n",
       "      <th>Response</th>\n",
       "      <th>Coverage</th>\n",
       "      <th>Education</th>\n",
       "      <th>Effective To Date</th>\n",
       "      <th>EmploymentStatus</th>\n",
       "      <th>Gender</th>\n",
       "      <th>Location Code</th>\n",
       "      <th>Marital Status</th>\n",
       "      <th>Policy Type</th>\n",
       "      <th>Policy</th>\n",
       "      <th>Renew Offer Type</th>\n",
       "      <th>Sales Channel</th>\n",
       "      <th>Vehicle Class</th>\n",
       "      <th>Vehicle Size</th>\n",
       "      <th>Customer_alpha</th>\n",
       "      <th>Customer_num</th>\n",
       "    </tr>\n",
       "  </thead>\n",
       "  <tbody>\n",
       "    <tr>\n",
       "      <th>0</th>\n",
       "      <td>BU79786</td>\n",
       "      <td>Washington</td>\n",
       "      <td>No</td>\n",
       "      <td>Basic</td>\n",
       "      <td>Bachelor</td>\n",
       "      <td>2011-02-24</td>\n",
       "      <td>Employed</td>\n",
       "      <td>F</td>\n",
       "      <td>Suburban</td>\n",
       "      <td>Married</td>\n",
       "      <td>Corporate Auto</td>\n",
       "      <td>Corporate L3</td>\n",
       "      <td>Offer1</td>\n",
       "      <td>Agent</td>\n",
       "      <td>Two-Door Car</td>\n",
       "      <td>Medsize</td>\n",
       "      <td>BU</td>\n",
       "      <td>79786</td>\n",
       "    </tr>\n",
       "    <tr>\n",
       "      <th>1</th>\n",
       "      <td>QZ44356</td>\n",
       "      <td>Arizona</td>\n",
       "      <td>No</td>\n",
       "      <td>Extended</td>\n",
       "      <td>Bachelor</td>\n",
       "      <td>2011-01-31</td>\n",
       "      <td>Unemployed</td>\n",
       "      <td>F</td>\n",
       "      <td>Suburban</td>\n",
       "      <td>Single</td>\n",
       "      <td>Personal Auto</td>\n",
       "      <td>Personal L3</td>\n",
       "      <td>Offer3</td>\n",
       "      <td>Agent</td>\n",
       "      <td>Four-Door Car</td>\n",
       "      <td>Medsize</td>\n",
       "      <td>QZ</td>\n",
       "      <td>44356</td>\n",
       "    </tr>\n",
       "    <tr>\n",
       "      <th>2</th>\n",
       "      <td>AI49188</td>\n",
       "      <td>Nevada</td>\n",
       "      <td>No</td>\n",
       "      <td>Premium</td>\n",
       "      <td>Bachelor</td>\n",
       "      <td>2011-02-19</td>\n",
       "      <td>Employed</td>\n",
       "      <td>F</td>\n",
       "      <td>Suburban</td>\n",
       "      <td>Married</td>\n",
       "      <td>Personal Auto</td>\n",
       "      <td>Personal L3</td>\n",
       "      <td>Offer1</td>\n",
       "      <td>Agent</td>\n",
       "      <td>Two-Door Car</td>\n",
       "      <td>Medsize</td>\n",
       "      <td>AI</td>\n",
       "      <td>49188</td>\n",
       "    </tr>\n",
       "    <tr>\n",
       "      <th>3</th>\n",
       "      <td>WW63253</td>\n",
       "      <td>California</td>\n",
       "      <td>No</td>\n",
       "      <td>Basic</td>\n",
       "      <td>Bachelor</td>\n",
       "      <td>2011-01-20</td>\n",
       "      <td>Unemployed</td>\n",
       "      <td>M</td>\n",
       "      <td>Suburban</td>\n",
       "      <td>Married</td>\n",
       "      <td>Corporate Auto</td>\n",
       "      <td>Corporate L2</td>\n",
       "      <td>Offer1</td>\n",
       "      <td>Call Center</td>\n",
       "      <td>SUV</td>\n",
       "      <td>Medsize</td>\n",
       "      <td>WW</td>\n",
       "      <td>63253</td>\n",
       "    </tr>\n",
       "    <tr>\n",
       "      <th>4</th>\n",
       "      <td>HB64268</td>\n",
       "      <td>Washington</td>\n",
       "      <td>No</td>\n",
       "      <td>Basic</td>\n",
       "      <td>Bachelor</td>\n",
       "      <td>2011-02-03</td>\n",
       "      <td>Employed</td>\n",
       "      <td>M</td>\n",
       "      <td>Rural</td>\n",
       "      <td>Single</td>\n",
       "      <td>Personal Auto</td>\n",
       "      <td>Personal L1</td>\n",
       "      <td>Offer1</td>\n",
       "      <td>Agent</td>\n",
       "      <td>Four-Door Car</td>\n",
       "      <td>Medsize</td>\n",
       "      <td>HB</td>\n",
       "      <td>64268</td>\n",
       "    </tr>\n",
       "    <tr>\n",
       "      <th>...</th>\n",
       "      <td>...</td>\n",
       "      <td>...</td>\n",
       "      <td>...</td>\n",
       "      <td>...</td>\n",
       "      <td>...</td>\n",
       "      <td>...</td>\n",
       "      <td>...</td>\n",
       "      <td>...</td>\n",
       "      <td>...</td>\n",
       "      <td>...</td>\n",
       "      <td>...</td>\n",
       "      <td>...</td>\n",
       "      <td>...</td>\n",
       "      <td>...</td>\n",
       "      <td>...</td>\n",
       "      <td>...</td>\n",
       "      <td>...</td>\n",
       "      <td>...</td>\n",
       "    </tr>\n",
       "    <tr>\n",
       "      <th>9129</th>\n",
       "      <td>LA72316</td>\n",
       "      <td>California</td>\n",
       "      <td>No</td>\n",
       "      <td>Basic</td>\n",
       "      <td>Bachelor</td>\n",
       "      <td>2011-02-10</td>\n",
       "      <td>Employed</td>\n",
       "      <td>M</td>\n",
       "      <td>Urban</td>\n",
       "      <td>Married</td>\n",
       "      <td>Personal Auto</td>\n",
       "      <td>Personal L1</td>\n",
       "      <td>Offer2</td>\n",
       "      <td>Web</td>\n",
       "      <td>Four-Door Car</td>\n",
       "      <td>Medsize</td>\n",
       "      <td>LA</td>\n",
       "      <td>72316</td>\n",
       "    </tr>\n",
       "    <tr>\n",
       "      <th>9130</th>\n",
       "      <td>PK87824</td>\n",
       "      <td>California</td>\n",
       "      <td>Yes</td>\n",
       "      <td>Extended</td>\n",
       "      <td>College</td>\n",
       "      <td>2011-02-12</td>\n",
       "      <td>Employed</td>\n",
       "      <td>F</td>\n",
       "      <td>Suburban</td>\n",
       "      <td>Divorced</td>\n",
       "      <td>Corporate Auto</td>\n",
       "      <td>Corporate L3</td>\n",
       "      <td>Offer1</td>\n",
       "      <td>Branch</td>\n",
       "      <td>Four-Door Car</td>\n",
       "      <td>Medsize</td>\n",
       "      <td>PK</td>\n",
       "      <td>87824</td>\n",
       "    </tr>\n",
       "    <tr>\n",
       "      <th>9131</th>\n",
       "      <td>TD14365</td>\n",
       "      <td>California</td>\n",
       "      <td>No</td>\n",
       "      <td>Extended</td>\n",
       "      <td>Bachelor</td>\n",
       "      <td>2011-02-06</td>\n",
       "      <td>Unemployed</td>\n",
       "      <td>M</td>\n",
       "      <td>Suburban</td>\n",
       "      <td>Single</td>\n",
       "      <td>Corporate Auto</td>\n",
       "      <td>Corporate L2</td>\n",
       "      <td>Offer1</td>\n",
       "      <td>Branch</td>\n",
       "      <td>Four-Door Car</td>\n",
       "      <td>Medsize</td>\n",
       "      <td>TD</td>\n",
       "      <td>14365</td>\n",
       "    </tr>\n",
       "    <tr>\n",
       "      <th>9132</th>\n",
       "      <td>UP19263</td>\n",
       "      <td>California</td>\n",
       "      <td>No</td>\n",
       "      <td>Extended</td>\n",
       "      <td>College</td>\n",
       "      <td>2011-02-03</td>\n",
       "      <td>Employed</td>\n",
       "      <td>M</td>\n",
       "      <td>Suburban</td>\n",
       "      <td>Married</td>\n",
       "      <td>Personal Auto</td>\n",
       "      <td>Personal L2</td>\n",
       "      <td>Offer3</td>\n",
       "      <td>Branch</td>\n",
       "      <td>Four-Door Car</td>\n",
       "      <td>Large</td>\n",
       "      <td>UP</td>\n",
       "      <td>19263</td>\n",
       "    </tr>\n",
       "    <tr>\n",
       "      <th>9133</th>\n",
       "      <td>Y167826</td>\n",
       "      <td>California</td>\n",
       "      <td>No</td>\n",
       "      <td>Extended</td>\n",
       "      <td>College</td>\n",
       "      <td>2011-02-14</td>\n",
       "      <td>Unemployed</td>\n",
       "      <td>M</td>\n",
       "      <td>Suburban</td>\n",
       "      <td>Single</td>\n",
       "      <td>Corporate Auto</td>\n",
       "      <td>Corporate L3</td>\n",
       "      <td>Offer4</td>\n",
       "      <td>Call Center</td>\n",
       "      <td>Two-Door Car</td>\n",
       "      <td>Medsize</td>\n",
       "      <td>Y1</td>\n",
       "      <td>67826</td>\n",
       "    </tr>\n",
       "  </tbody>\n",
       "</table>\n",
       "<p>9134 rows × 18 columns</p>\n",
       "</div>"
      ],
      "text/plain": [
       "     Customer       State Response  Coverage Education Effective To Date  \\\n",
       "0     BU79786  Washington       No     Basic  Bachelor        2011-02-24   \n",
       "1     QZ44356     Arizona       No  Extended  Bachelor        2011-01-31   \n",
       "2     AI49188      Nevada       No   Premium  Bachelor        2011-02-19   \n",
       "3     WW63253  California       No     Basic  Bachelor        2011-01-20   \n",
       "4     HB64268  Washington       No     Basic  Bachelor        2011-02-03   \n",
       "...       ...         ...      ...       ...       ...               ...   \n",
       "9129  LA72316  California       No     Basic  Bachelor        2011-02-10   \n",
       "9130  PK87824  California      Yes  Extended   College        2011-02-12   \n",
       "9131  TD14365  California       No  Extended  Bachelor        2011-02-06   \n",
       "9132  UP19263  California       No  Extended   College        2011-02-03   \n",
       "9133  Y167826  California       No  Extended   College        2011-02-14   \n",
       "\n",
       "     EmploymentStatus Gender Location Code Marital Status     Policy Type  \\\n",
       "0            Employed      F      Suburban        Married  Corporate Auto   \n",
       "1          Unemployed      F      Suburban         Single   Personal Auto   \n",
       "2            Employed      F      Suburban        Married   Personal Auto   \n",
       "3          Unemployed      M      Suburban        Married  Corporate Auto   \n",
       "4            Employed      M         Rural         Single   Personal Auto   \n",
       "...               ...    ...           ...            ...             ...   \n",
       "9129         Employed      M         Urban        Married   Personal Auto   \n",
       "9130         Employed      F      Suburban       Divorced  Corporate Auto   \n",
       "9131       Unemployed      M      Suburban         Single  Corporate Auto   \n",
       "9132         Employed      M      Suburban        Married   Personal Auto   \n",
       "9133       Unemployed      M      Suburban         Single  Corporate Auto   \n",
       "\n",
       "            Policy Renew Offer Type Sales Channel  Vehicle Class Vehicle Size  \\\n",
       "0     Corporate L3           Offer1         Agent   Two-Door Car      Medsize   \n",
       "1      Personal L3           Offer3         Agent  Four-Door Car      Medsize   \n",
       "2      Personal L3           Offer1         Agent   Two-Door Car      Medsize   \n",
       "3     Corporate L2           Offer1   Call Center            SUV      Medsize   \n",
       "4      Personal L1           Offer1         Agent  Four-Door Car      Medsize   \n",
       "...            ...              ...           ...            ...          ...   \n",
       "9129   Personal L1           Offer2           Web  Four-Door Car      Medsize   \n",
       "9130  Corporate L3           Offer1        Branch  Four-Door Car      Medsize   \n",
       "9131  Corporate L2           Offer1        Branch  Four-Door Car      Medsize   \n",
       "9132   Personal L2           Offer3        Branch  Four-Door Car        Large   \n",
       "9133  Corporate L3           Offer4   Call Center   Two-Door Car      Medsize   \n",
       "\n",
       "     Customer_alpha  Customer_num  \n",
       "0                BU         79786  \n",
       "1                QZ         44356  \n",
       "2                AI         49188  \n",
       "3                WW         63253  \n",
       "4                HB         64268  \n",
       "...             ...           ...  \n",
       "9129             LA         72316  \n",
       "9130             PK         87824  \n",
       "9131             TD         14365  \n",
       "9132             UP         19263  \n",
       "9133             Y1         67826  \n",
       "\n",
       "[9134 rows x 18 columns]"
      ]
     },
     "metadata": {},
     "output_type": "display_data"
    }
   ],
   "source": [
    "display(categorical_df)"
   ]
  },
  {
   "cell_type": "code",
   "execution_count": 107,
   "metadata": {},
   "outputs": [
    {
     "name": "stdout",
     "output_type": "stream",
     "text": [
      "<class 'pandas.core.frame.DataFrame'>\n",
      "RangeIndex: 9134 entries, 0 to 9133\n",
      "Data columns (total 18 columns):\n",
      " #   Column             Non-Null Count  Dtype         \n",
      "---  ------             --------------  -----         \n",
      " 0   Customer           9134 non-null   object        \n",
      " 1   State              9134 non-null   object        \n",
      " 2   Response           9134 non-null   object        \n",
      " 3   Coverage           9134 non-null   object        \n",
      " 4   Education          9134 non-null   object        \n",
      " 5   Effective To Date  9134 non-null   datetime64[ns]\n",
      " 6   EmploymentStatus   9134 non-null   object        \n",
      " 7   Gender             9134 non-null   object        \n",
      " 8   Location Code      9134 non-null   object        \n",
      " 9   Marital Status     9134 non-null   object        \n",
      " 10  Policy Type        9134 non-null   object        \n",
      " 11  Policy             9134 non-null   object        \n",
      " 12  Renew Offer Type   9134 non-null   object        \n",
      " 13  Sales Channel      9134 non-null   object        \n",
      " 14  Vehicle Class      9134 non-null   object        \n",
      " 15  Vehicle Size       9134 non-null   object        \n",
      " 16  Customer_alpha     9134 non-null   object        \n",
      " 17  Customer_num       9134 non-null   int64         \n",
      "dtypes: datetime64[ns](1), int64(1), object(16)\n",
      "memory usage: 1.3+ MB\n"
     ]
    },
    {
     "data": {
      "text/plain": [
       "None"
      ]
     },
     "metadata": {},
     "output_type": "display_data"
    }
   ],
   "source": [
    "display(categorical_df.info())"
   ]
  },
  {
   "cell_type": "code",
   "execution_count": 111,
   "metadata": {},
   "outputs": [],
   "source": [
    "# 7.Would you choose to do anything else to clean or wrangle the categorical data? Comment your decisions."
   ]
  },
  {
   "cell_type": "code",
   "execution_count": 112,
   "metadata": {},
   "outputs": [
    {
     "name": "stdout",
     "output_type": "stream",
     "text": [
      "Customer\n"
     ]
    },
    {
     "data": {
      "text/plain": [
       "array(['BU79786', 'QZ44356', 'AI49188', ..., 'TD14365', 'UP19263',\n",
       "       'Y167826'], dtype=object)"
      ]
     },
     "metadata": {},
     "output_type": "display_data"
    },
    {
     "data": {
      "text/plain": [
       "FB80807    1\n",
       "TV75816    1\n",
       "NR49426    1\n",
       "YA83600    1\n",
       "PR21713    1\n",
       "          ..\n",
       "DV85764    1\n",
       "WN69789    1\n",
       "PS28082    1\n",
       "AQ34238    1\n",
       "EG94409    1\n",
       "Name: Customer, Length: 9134, dtype: int64"
      ]
     },
     "metadata": {},
     "output_type": "display_data"
    },
    {
     "name": "stdout",
     "output_type": "stream",
     "text": [
      "State\n"
     ]
    },
    {
     "data": {
      "text/plain": [
       "array(['Washington', 'Arizona', 'Nevada', 'California', 'Oregon'],\n",
       "      dtype=object)"
      ]
     },
     "metadata": {},
     "output_type": "display_data"
    },
    {
     "data": {
      "text/plain": [
       "California    3150\n",
       "Oregon        2601\n",
       "Arizona       1703\n",
       "Nevada         882\n",
       "Washington     798\n",
       "Name: State, dtype: int64"
      ]
     },
     "metadata": {},
     "output_type": "display_data"
    },
    {
     "name": "stdout",
     "output_type": "stream",
     "text": [
      "Response\n"
     ]
    },
    {
     "data": {
      "text/plain": [
       "array(['No', 'Yes'], dtype=object)"
      ]
     },
     "metadata": {},
     "output_type": "display_data"
    },
    {
     "data": {
      "text/plain": [
       "No     7826\n",
       "Yes    1308\n",
       "Name: Response, dtype: int64"
      ]
     },
     "metadata": {},
     "output_type": "display_data"
    },
    {
     "name": "stdout",
     "output_type": "stream",
     "text": [
      "Coverage\n"
     ]
    },
    {
     "data": {
      "text/plain": [
       "array(['Basic', 'Extended', 'Premium'], dtype=object)"
      ]
     },
     "metadata": {},
     "output_type": "display_data"
    },
    {
     "data": {
      "text/plain": [
       "Basic       5568\n",
       "Extended    2742\n",
       "Premium      824\n",
       "Name: Coverage, dtype: int64"
      ]
     },
     "metadata": {},
     "output_type": "display_data"
    },
    {
     "name": "stdout",
     "output_type": "stream",
     "text": [
      "Education\n"
     ]
    },
    {
     "data": {
      "text/plain": [
       "array(['Bachelor', 'College', 'Master', 'High School or Below', 'Doctor'],\n",
       "      dtype=object)"
      ]
     },
     "metadata": {},
     "output_type": "display_data"
    },
    {
     "data": {
      "text/plain": [
       "Bachelor                2748\n",
       "College                 2681\n",
       "High School or Below    2622\n",
       "Master                   741\n",
       "Doctor                   342\n",
       "Name: Education, dtype: int64"
      ]
     },
     "metadata": {},
     "output_type": "display_data"
    },
    {
     "name": "stdout",
     "output_type": "stream",
     "text": [
      "Effective To Date\n"
     ]
    },
    {
     "data": {
      "text/plain": [
       "array(['2011-02-24T00:00:00.000000000', '2011-01-31T00:00:00.000000000',\n",
       "       '2011-02-19T00:00:00.000000000', '2011-01-20T00:00:00.000000000',\n",
       "       '2011-02-03T00:00:00.000000000', '2011-01-25T00:00:00.000000000',\n",
       "       '2011-01-18T00:00:00.000000000', '2011-01-26T00:00:00.000000000',\n",
       "       '2011-02-17T00:00:00.000000000', '2011-02-21T00:00:00.000000000',\n",
       "       '2011-01-06T00:00:00.000000000', '2011-02-06T00:00:00.000000000',\n",
       "       '2011-01-10T00:00:00.000000000', '2011-01-17T00:00:00.000000000',\n",
       "       '2011-01-05T00:00:00.000000000', '2011-02-27T00:00:00.000000000',\n",
       "       '2011-01-14T00:00:00.000000000', '2011-01-21T00:00:00.000000000',\n",
       "       '2011-02-05T00:00:00.000000000', '2011-01-29T00:00:00.000000000',\n",
       "       '2011-02-28T00:00:00.000000000', '2011-02-12T00:00:00.000000000',\n",
       "       '2011-02-02T00:00:00.000000000', '2011-02-07T00:00:00.000000000',\n",
       "       '2011-01-22T00:00:00.000000000', '2011-02-13T00:00:00.000000000',\n",
       "       '2011-01-15T00:00:00.000000000', '2011-01-08T00:00:00.000000000',\n",
       "       '2011-01-11T00:00:00.000000000', '2011-01-28T00:00:00.000000000',\n",
       "       '2011-02-08T00:00:00.000000000', '2011-02-23T00:00:00.000000000',\n",
       "       '2011-01-02T00:00:00.000000000', '2011-02-16T00:00:00.000000000',\n",
       "       '2011-01-27T00:00:00.000000000', '2011-01-23T00:00:00.000000000',\n",
       "       '2011-01-09T00:00:00.000000000', '2011-02-11T00:00:00.000000000',\n",
       "       '2011-02-04T00:00:00.000000000', '2011-02-01T00:00:00.000000000',\n",
       "       '2011-02-15T00:00:00.000000000', '2011-02-26T00:00:00.000000000',\n",
       "       '2011-01-16T00:00:00.000000000', '2011-01-01T00:00:00.000000000',\n",
       "       '2011-02-10T00:00:00.000000000', '2011-01-24T00:00:00.000000000',\n",
       "       '2011-02-25T00:00:00.000000000', '2011-01-12T00:00:00.000000000',\n",
       "       '2011-02-09T00:00:00.000000000', '2011-01-19T00:00:00.000000000',\n",
       "       '2011-01-04T00:00:00.000000000', '2011-02-14T00:00:00.000000000',\n",
       "       '2011-02-20T00:00:00.000000000', '2011-02-18T00:00:00.000000000',\n",
       "       '2011-01-03T00:00:00.000000000', '2011-01-13T00:00:00.000000000',\n",
       "       '2011-01-30T00:00:00.000000000', '2011-02-22T00:00:00.000000000',\n",
       "       '2011-01-07T00:00:00.000000000'], dtype='datetime64[ns]')"
      ]
     },
     "metadata": {},
     "output_type": "display_data"
    },
    {
     "data": {
      "text/plain": [
       "2011-01-10    195\n",
       "2011-01-27    194\n",
       "2011-02-14    186\n",
       "2011-01-26    181\n",
       "2011-01-17    180\n",
       "2011-01-19    179\n",
       "2011-01-03    178\n",
       "2011-01-31    178\n",
       "2011-01-20    173\n",
       "2011-01-28    169\n",
       "2011-02-26    169\n",
       "2011-02-19    168\n",
       "2011-02-27    167\n",
       "2011-01-05    167\n",
       "2011-01-11    166\n",
       "2011-02-04    164\n",
       "2011-02-28    161\n",
       "2011-02-10    161\n",
       "2011-01-02    160\n",
       "2011-01-21    160\n",
       "2011-01-29    160\n",
       "2011-02-22    158\n",
       "2011-02-05    158\n",
       "2011-02-03    158\n",
       "2011-02-07    157\n",
       "2011-02-12    156\n",
       "2011-01-23    155\n",
       "2011-01-18    154\n",
       "2011-02-01    154\n",
       "2011-01-15    153\n",
       "2011-01-14    152\n",
       "2011-01-07    151\n",
       "2011-01-25    151\n",
       "2011-02-11    151\n",
       "2011-01-08    149\n",
       "2011-02-02    149\n",
       "2011-02-18    149\n",
       "2011-02-25    149\n",
       "2011-01-01    148\n",
       "2011-02-21    148\n",
       "2011-01-24    147\n",
       "2011-01-09    146\n",
       "2011-01-13    145\n",
       "2011-01-30    145\n",
       "2011-02-06    144\n",
       "2011-01-06    143\n",
       "2011-02-23    143\n",
       "2011-01-16    142\n",
       "2011-02-24    139\n",
       "2011-02-16    139\n",
       "2011-02-13    139\n",
       "2011-02-09    137\n",
       "2011-01-22    136\n",
       "2011-02-17    136\n",
       "2011-02-08    134\n",
       "2011-02-20    132\n",
       "2011-02-15    130\n",
       "2011-01-12    126\n",
       "2011-01-04    115\n",
       "Name: Effective To Date, dtype: int64"
      ]
     },
     "metadata": {},
     "output_type": "display_data"
    },
    {
     "name": "stdout",
     "output_type": "stream",
     "text": [
      "EmploymentStatus\n"
     ]
    },
    {
     "data": {
      "text/plain": [
       "array(['Employed', 'Unemployed', 'Medical Leave', 'Disabled', 'Retired'],\n",
       "      dtype=object)"
      ]
     },
     "metadata": {},
     "output_type": "display_data"
    },
    {
     "data": {
      "text/plain": [
       "Employed         5698\n",
       "Unemployed       2317\n",
       "Medical Leave     432\n",
       "Disabled          405\n",
       "Retired           282\n",
       "Name: EmploymentStatus, dtype: int64"
      ]
     },
     "metadata": {},
     "output_type": "display_data"
    },
    {
     "name": "stdout",
     "output_type": "stream",
     "text": [
      "Gender\n"
     ]
    },
    {
     "data": {
      "text/plain": [
       "array(['F', 'M'], dtype=object)"
      ]
     },
     "metadata": {},
     "output_type": "display_data"
    },
    {
     "data": {
      "text/plain": [
       "F    4658\n",
       "M    4476\n",
       "Name: Gender, dtype: int64"
      ]
     },
     "metadata": {},
     "output_type": "display_data"
    },
    {
     "name": "stdout",
     "output_type": "stream",
     "text": [
      "Location Code\n"
     ]
    },
    {
     "data": {
      "text/plain": [
       "array(['Suburban', 'Rural', 'Urban'], dtype=object)"
      ]
     },
     "metadata": {},
     "output_type": "display_data"
    },
    {
     "data": {
      "text/plain": [
       "Suburban    5779\n",
       "Rural       1773\n",
       "Urban       1582\n",
       "Name: Location Code, dtype: int64"
      ]
     },
     "metadata": {},
     "output_type": "display_data"
    },
    {
     "name": "stdout",
     "output_type": "stream",
     "text": [
      "Marital Status\n"
     ]
    },
    {
     "data": {
      "text/plain": [
       "array(['Married', 'Single', 'Divorced'], dtype=object)"
      ]
     },
     "metadata": {},
     "output_type": "display_data"
    },
    {
     "data": {
      "text/plain": [
       "Married     5298\n",
       "Single      2467\n",
       "Divorced    1369\n",
       "Name: Marital Status, dtype: int64"
      ]
     },
     "metadata": {},
     "output_type": "display_data"
    },
    {
     "name": "stdout",
     "output_type": "stream",
     "text": [
      "Policy Type\n"
     ]
    },
    {
     "data": {
      "text/plain": [
       "array(['Corporate Auto', 'Personal Auto', 'Special Auto'], dtype=object)"
      ]
     },
     "metadata": {},
     "output_type": "display_data"
    },
    {
     "data": {
      "text/plain": [
       "Personal Auto     6788\n",
       "Corporate Auto    1968\n",
       "Special Auto       378\n",
       "Name: Policy Type, dtype: int64"
      ]
     },
     "metadata": {},
     "output_type": "display_data"
    },
    {
     "name": "stdout",
     "output_type": "stream",
     "text": [
      "Policy\n"
     ]
    },
    {
     "data": {
      "text/plain": [
       "array(['Corporate L3', 'Personal L3', 'Corporate L2', 'Personal L1',\n",
       "       'Special L2', 'Corporate L1', 'Personal L2', 'Special L1',\n",
       "       'Special L3'], dtype=object)"
      ]
     },
     "metadata": {},
     "output_type": "display_data"
    },
    {
     "data": {
      "text/plain": [
       "Personal L3     3426\n",
       "Personal L2     2122\n",
       "Personal L1     1240\n",
       "Corporate L3    1014\n",
       "Corporate L2     595\n",
       "Corporate L1     359\n",
       "Special L2       164\n",
       "Special L3       148\n",
       "Special L1        66\n",
       "Name: Policy, dtype: int64"
      ]
     },
     "metadata": {},
     "output_type": "display_data"
    },
    {
     "name": "stdout",
     "output_type": "stream",
     "text": [
      "Renew Offer Type\n"
     ]
    },
    {
     "data": {
      "text/plain": [
       "array(['Offer1', 'Offer3', 'Offer2', 'Offer4'], dtype=object)"
      ]
     },
     "metadata": {},
     "output_type": "display_data"
    },
    {
     "data": {
      "text/plain": [
       "Offer1    3752\n",
       "Offer2    2926\n",
       "Offer3    1432\n",
       "Offer4    1024\n",
       "Name: Renew Offer Type, dtype: int64"
      ]
     },
     "metadata": {},
     "output_type": "display_data"
    },
    {
     "name": "stdout",
     "output_type": "stream",
     "text": [
      "Sales Channel\n"
     ]
    },
    {
     "data": {
      "text/plain": [
       "array(['Agent', 'Call Center', 'Web', 'Branch'], dtype=object)"
      ]
     },
     "metadata": {},
     "output_type": "display_data"
    },
    {
     "data": {
      "text/plain": [
       "Agent          3477\n",
       "Branch         2567\n",
       "Call Center    1765\n",
       "Web            1325\n",
       "Name: Sales Channel, dtype: int64"
      ]
     },
     "metadata": {},
     "output_type": "display_data"
    },
    {
     "name": "stdout",
     "output_type": "stream",
     "text": [
      "Vehicle Class\n"
     ]
    },
    {
     "data": {
      "text/plain": [
       "array(['Two-Door Car', 'Four-Door Car', 'SUV', 'Luxury SUV', 'Sports Car',\n",
       "       'Luxury Car'], dtype=object)"
      ]
     },
     "metadata": {},
     "output_type": "display_data"
    },
    {
     "data": {
      "text/plain": [
       "Four-Door Car    4621\n",
       "Two-Door Car     1886\n",
       "SUV              1796\n",
       "Sports Car        484\n",
       "Luxury SUV        184\n",
       "Luxury Car        163\n",
       "Name: Vehicle Class, dtype: int64"
      ]
     },
     "metadata": {},
     "output_type": "display_data"
    },
    {
     "name": "stdout",
     "output_type": "stream",
     "text": [
      "Vehicle Size\n"
     ]
    },
    {
     "data": {
      "text/plain": [
       "array(['Medsize', 'Small', 'Large'], dtype=object)"
      ]
     },
     "metadata": {},
     "output_type": "display_data"
    },
    {
     "data": {
      "text/plain": [
       "Medsize    6424\n",
       "Small      1764\n",
       "Large       946\n",
       "Name: Vehicle Size, dtype: int64"
      ]
     },
     "metadata": {},
     "output_type": "display_data"
    },
    {
     "name": "stdout",
     "output_type": "stream",
     "text": [
      "Customer_alpha\n"
     ]
    },
    {
     "data": {
      "text/plain": [
       "array(['BU', 'QZ', 'AI', 'WW', 'HB', 'OC', 'XZ', 'CF', 'DY', 'BQ', 'SX',\n",
       "       'VQ', 'DP', 'SJ', 'IL', 'BW', 'FV', 'OE', 'WC', 'FL', 'ZK', 'SV',\n",
       "       'YH', 'TZ', 'HM', 'FS', 'US', 'HO', 'GE', 'EJ', 'UL', 'PF', 'AO',\n",
       "       'SK', 'YV', 'KY', 'DM', 'CM', 'QG', 'MB', 'SR', 'DH', 'HG', 'XM',\n",
       "       'KP', 'SH', 'WE', 'PY', 'RB', 'XR', 'FR', 'SY', 'AP', 'ML', 'UB',\n",
       "       'CD', 'RU', 'FG', 'NN', 'WB', 'SM', 'GW', 'RZ', 'MO', 'HW', 'BN',\n",
       "       'YX', 'DZ', 'XW', 'LN', 'OM', 'ZU', 'VH', 'DT', 'YJ', 'SQ', 'HF',\n",
       "       'ET', 'QC', 'CJ', 'OI', 'JY', 'CZ', 'WK', 'ON', 'TV', 'KH', 'NZ',\n",
       "       'RI', 'FZ', 'UG', 'AB', 'XK', 'EV', 'UN', 'TO', 'MR', 'DE', 'EP',\n",
       "       'GU', 'WI', 'YQ', 'MQ', 'KN', 'CR', 'JI', 'VF', 'OX', 'OO', 'YT',\n",
       "       'CW', 'EM', 'FH', 'XA', 'GO', 'QH', 'UH', 'QA', 'TQ', 'MS', 'PU',\n",
       "       'AZ', 'DS', 'OJ', 'LP', 'LM', 'XC', 'YC', 'EK', 'GD', 'WA', 'PD',\n",
       "       'BS', 'YM', 'NR', 'RC', 'CC', 'KA', 'OS', 'ND', 'YL', 'JP', 'HL',\n",
       "       'IC', 'BE', 'HT', 'TH', 'TS', 'QR', 'DX', 'IS', 'IX', 'HH', 'IU',\n",
       "       'KC', 'NK', 'OZ', 'UF', 'XP', 'GK', 'RV', 'II', 'TR', 'EO', 'EN',\n",
       "       'ZW', 'EH', 'MW', 'SL', 'UO', 'ZX', 'XX', 'SD', 'OY', 'BG', 'IP',\n",
       "       'LE', 'KX', 'EZ', 'XN', 'IT', 'CO', 'LK', 'YS', 'UK', 'TE', 'RA',\n",
       "       'KQ', 'WU', 'XV', 'KO', 'HI', 'PT', 'BH', 'TX', 'CT', 'LF', 'CN',\n",
       "       'UW', 'HP', 'PP', 'RO', 'FO', 'HR', 'IA', 'PK', 'OD', 'GY', 'JM',\n",
       "       'QX', 'JU', 'UC', 'LW', 'OU', 'HS', 'VZ', 'UI', 'AE', 'XS', 'AY',\n",
       "       'NA', 'UA', 'DJ', 'VM', 'OH', 'NC', 'LQ', 'LA', 'NB', 'NT', 'AF',\n",
       "       'ZG', 'JQ', 'FE', 'JT', 'MC', 'EU', 'RH', 'WV', 'RK', 'MF', 'FM',\n",
       "       'RF', 'IM', 'VI', 'YR', 'RR', 'VC', 'TM', 'GJ', 'FY', 'FW', 'HD',\n",
       "       'AH', 'XI', 'DI', 'SC', 'DQ', 'JE', 'WS', 'ZA', 'EW', 'QW', 'KU',\n",
       "       'MJ', 'TW', 'VE', 'PX', 'NI', 'GN', 'QL', 'UV', 'CE', 'JL', 'JZ',\n",
       "       'QD', 'ES', 'JK', 'RN', 'BI', 'JA', 'JJ', 'BL', 'CP', 'NV', 'RM',\n",
       "       'GL', 'LL', 'BC', 'JF', 'BK', 'MK', 'IW', 'QP', 'ZM', 'QQ', 'HU',\n",
       "       'XH', 'ZH', 'AG', 'KB', 'GF', 'VV', 'OA', 'ZF', 'SF', 'OT', 'SW',\n",
       "       'JS', 'RE', 'LC', 'UX', 'RX', 'DW', 'EG', 'DB', 'JB', 'QN', 'ZY',\n",
       "       'IN', 'DF', 'MN', 'NL', 'UM', 'QY', 'NM', 'MZ', 'ID', 'EY', 'TT',\n",
       "       'IO', 'RQ', 'AU', 'ZN', 'EI', 'GV', 'QK', 'LU', 'NS', 'KL', 'LZ',\n",
       "       'YE', 'XD', 'PH', 'WQ', 'TC', 'CX', 'CK', 'JC', 'UQ', 'RP', 'ZR',\n",
       "       'NQ', 'PB', 'CV', 'EX', 'GM', 'BX', 'SG', 'FJ', 'CU', 'ZZ', 'BV',\n",
       "       'HX', 'RD', 'BT', 'VP', 'VU', 'TA', 'OQ', 'AW', 'MY', 'IB', 'KF',\n",
       "       'HK', 'PN', 'VW', 'WT', 'WO', 'PR', 'RJ', 'KI', 'FF', 'TN', 'PM',\n",
       "       'QV', 'QE', 'CQ', 'TL', 'FN', 'TU', 'IJ', 'OB', 'YI', 'NW', 'ME',\n",
       "       'SI', 'YD', 'CA', 'QT', 'UY', 'GT', 'NX', 'DA', 'GH', 'BD', 'JH',\n",
       "       'ZJ', 'PI', 'EL', 'DG', 'WP', 'TK', 'DN', 'SS', 'NG', 'ED', 'GP',\n",
       "       'ZC', 'HN', 'EB', 'SU', 'DL', 'OL', 'HQ', 'WR', 'GB', 'GI', 'VO',\n",
       "       'CY', 'TJ', 'ZQ', 'OV', 'WL', 'MP', 'DR', 'KM', 'OF', 'YB', 'BA',\n",
       "       'BB', 'MM', 'KR', 'VS', 'AM', 'QB', 'EA', 'PW', 'SN', 'PA', 'RT',\n",
       "       'BZ', 'WM', 'NH', 'BM', 'VY', 'WY', 'YG', 'FK', 'NE', 'ZO', 'CH',\n",
       "       'NY', 'UT', 'LB', 'KW', 'XO', 'FI', 'QM', 'VN', 'TF', 'CB', 'XG',\n",
       "       'UJ', 'TY', 'GR', 'DK', 'OR', 'FA', 'ST', 'AL', 'ZE', 'UU', 'XJ',\n",
       "       'FT', 'KJ', 'XT', 'SP', 'GC', 'IR', 'XF', 'QJ', 'QO', 'JX', 'SB',\n",
       "       'ZT', 'ZS', 'WZ', 'AA', 'TD', 'LY', 'VX', 'TP', 'VB', 'AQ', 'JO',\n",
       "       'RS', 'VT', 'WH', 'MT', 'TI', 'VA', 'PV', 'ZV', 'FB', 'AS', 'SA',\n",
       "       'VL', 'UP', 'HV', 'MG', 'JN', 'VK', 'EC', 'PO', 'NF', 'SZ', 'NJ',\n",
       "       'RG', 'BJ', 'MD', 'RY', 'IK', 'GQ', 'VJ', 'GS', 'OK', 'GG', 'KD',\n",
       "       'PS', 'MU', 'YO', 'WF', 'NU', 'SE', 'FU', 'VG', 'BR', 'PZ', 'LV',\n",
       "       'LH', 'CS', 'FX', 'HA', 'HJ', 'YN', 'ZB', 'DO', 'EF', 'NP', 'KT',\n",
       "       'LG', 'QF', 'MH', 'LT', 'QI', 'WJ', 'IG', 'AC', 'BF', 'IE', 'ZD',\n",
       "       'LD', 'JW', 'VD', 'IF', 'FD', 'JD', 'HZ', 'DU', 'XQ', 'WG', 'LO',\n",
       "       'JG', 'YF', 'LS', 'KK', 'ZI', 'MX', 'IQ', 'MA', 'XY', 'KG', 'XB',\n",
       "       'XE', 'UD', 'YP', 'PC', 'YY', 'PQ', 'JR', 'ZP', 'YA', 'PG', 'RW',\n",
       "       'AN', 'OP', 'EE', 'EQ', 'LX', 'LI', 'HC', 'BY', 'BP', 'QS', 'YU',\n",
       "       'IV', 'GX', 'WN', 'GZ', 'AT', 'IH', 'MI', 'DD', 'AV', 'FQ', 'KZ',\n",
       "       'ER', 'AJ', 'AR', 'QU', 'MV', 'RL', 'IY', 'TG', 'OG', 'LR', 'UR',\n",
       "       'CI', 'FP', 'KV', 'No', 'YZ', 'PE', 'IZ', 'TB', 'ZL', 'AX', 'HE',\n",
       "       'WX', 'JV', 'WD', 'PL', 'OW', 'FC', 'CL', 'HY', 'SO', 'DV', 'UE',\n",
       "       'YW', 'YK', 'XU', 'KE', 'GA', 'XL', 'BO', 'PJ', 'KS', 'CG', 'LJ',\n",
       "       'AK', 'DC', 'VR', 'AD', 'UZ', 'Y1'], dtype=object)"
      ]
     },
     "metadata": {},
     "output_type": "display_data"
    },
    {
     "data": {
      "text/plain": [
       "FG    28\n",
       "UF    27\n",
       "FP    25\n",
       "UI    24\n",
       "RA    24\n",
       "      ..\n",
       "VR     5\n",
       "YS     5\n",
       "IT     4\n",
       "RG     2\n",
       "Y1     1\n",
       "Name: Customer_alpha, Length: 677, dtype: int64"
      ]
     },
     "metadata": {},
     "output_type": "display_data"
    },
    {
     "name": "stdout",
     "output_type": "stream",
     "text": [
      "Customer_num\n"
     ]
    },
    {
     "data": {
      "text/plain": [
       "array([79786, 44356, 49188, ..., 14365, 19263, 67826], dtype=int64)"
      ]
     },
     "metadata": {},
     "output_type": "display_data"
    },
    {
     "data": {
      "text/plain": [
       "63956    4\n",
       "51200    3\n",
       "12347    3\n",
       "68427    3\n",
       "55977    3\n",
       "        ..\n",
       "55910    1\n",
       "53863    1\n",
       "25193    1\n",
       "62059    1\n",
       "32768    1\n",
       "Name: Customer_num, Length: 8688, dtype: int64"
      ]
     },
     "metadata": {},
     "output_type": "display_data"
    }
   ],
   "source": [
    "check_unique(categorical_df)"
   ]
  },
  {
   "cell_type": "code",
   "execution_count": 113,
   "metadata": {},
   "outputs": [],
   "source": [
    "# I would drop the \"Customer\" columns as it just contains random \"ID\" of Customer. From \"Effective To Date\" I would extract amount of month.\n",
    "# \"Policy Type\" can be dropped as it correlates with \"Policy\". \"Policy\" could maybe be clustered in Personal, Corporate and Special - but not sure if the L1- L3 have a cartain meaning.\n",
    "# The rest I would keep as it is!"
   ]
  },
  {
   "cell_type": "code",
   "execution_count": 151,
   "metadata": {},
   "outputs": [],
   "source": [
    "def months (x):\n",
    "    months = (date.today().year - x.year) * 12 + date.today().month - x.month\n",
    "    return months"
   ]
  },
  {
   "cell_type": "code",
   "execution_count": 149,
   "metadata": {},
   "outputs": [],
   "source": [
    "categorical_df = categorical_df.drop(columns=[\"Customer\", \"Customer_num\", \"Customer_alpha\"])"
   ]
  },
  {
   "cell_type": "code",
   "execution_count": 153,
   "metadata": {},
   "outputs": [],
   "source": [
    "categorical_df[\"Effective To Date\"] =  categorical_df[\"Effective To Date\"].apply(months)"
   ]
  },
  {
   "cell_type": "code",
   "execution_count": 154,
   "metadata": {},
   "outputs": [
    {
     "data": {
      "text/html": [
       "<div>\n",
       "<style scoped>\n",
       "    .dataframe tbody tr th:only-of-type {\n",
       "        vertical-align: middle;\n",
       "    }\n",
       "\n",
       "    .dataframe tbody tr th {\n",
       "        vertical-align: top;\n",
       "    }\n",
       "\n",
       "    .dataframe thead th {\n",
       "        text-align: right;\n",
       "    }\n",
       "</style>\n",
       "<table border=\"1\" class=\"dataframe\">\n",
       "  <thead>\n",
       "    <tr style=\"text-align: right;\">\n",
       "      <th></th>\n",
       "      <th>State</th>\n",
       "      <th>Response</th>\n",
       "      <th>Coverage</th>\n",
       "      <th>Education</th>\n",
       "      <th>Effective To Date</th>\n",
       "      <th>EmploymentStatus</th>\n",
       "      <th>Gender</th>\n",
       "      <th>Location Code</th>\n",
       "      <th>Marital Status</th>\n",
       "      <th>Policy Type</th>\n",
       "      <th>Policy</th>\n",
       "      <th>Renew Offer Type</th>\n",
       "      <th>Sales Channel</th>\n",
       "      <th>Vehicle Class</th>\n",
       "      <th>Vehicle Size</th>\n",
       "    </tr>\n",
       "  </thead>\n",
       "  <tbody>\n",
       "    <tr>\n",
       "      <th>0</th>\n",
       "      <td>Washington</td>\n",
       "      <td>No</td>\n",
       "      <td>Basic</td>\n",
       "      <td>Bachelor</td>\n",
       "      <td>133</td>\n",
       "      <td>Employed</td>\n",
       "      <td>F</td>\n",
       "      <td>Suburban</td>\n",
       "      <td>Married</td>\n",
       "      <td>Corporate Auto</td>\n",
       "      <td>Corporate L3</td>\n",
       "      <td>Offer1</td>\n",
       "      <td>Agent</td>\n",
       "      <td>Two-Door Car</td>\n",
       "      <td>Medsize</td>\n",
       "    </tr>\n",
       "    <tr>\n",
       "      <th>1</th>\n",
       "      <td>Arizona</td>\n",
       "      <td>No</td>\n",
       "      <td>Extended</td>\n",
       "      <td>Bachelor</td>\n",
       "      <td>134</td>\n",
       "      <td>Unemployed</td>\n",
       "      <td>F</td>\n",
       "      <td>Suburban</td>\n",
       "      <td>Single</td>\n",
       "      <td>Personal Auto</td>\n",
       "      <td>Personal L3</td>\n",
       "      <td>Offer3</td>\n",
       "      <td>Agent</td>\n",
       "      <td>Four-Door Car</td>\n",
       "      <td>Medsize</td>\n",
       "    </tr>\n",
       "    <tr>\n",
       "      <th>2</th>\n",
       "      <td>Nevada</td>\n",
       "      <td>No</td>\n",
       "      <td>Premium</td>\n",
       "      <td>Bachelor</td>\n",
       "      <td>133</td>\n",
       "      <td>Employed</td>\n",
       "      <td>F</td>\n",
       "      <td>Suburban</td>\n",
       "      <td>Married</td>\n",
       "      <td>Personal Auto</td>\n",
       "      <td>Personal L3</td>\n",
       "      <td>Offer1</td>\n",
       "      <td>Agent</td>\n",
       "      <td>Two-Door Car</td>\n",
       "      <td>Medsize</td>\n",
       "    </tr>\n",
       "    <tr>\n",
       "      <th>3</th>\n",
       "      <td>California</td>\n",
       "      <td>No</td>\n",
       "      <td>Basic</td>\n",
       "      <td>Bachelor</td>\n",
       "      <td>134</td>\n",
       "      <td>Unemployed</td>\n",
       "      <td>M</td>\n",
       "      <td>Suburban</td>\n",
       "      <td>Married</td>\n",
       "      <td>Corporate Auto</td>\n",
       "      <td>Corporate L2</td>\n",
       "      <td>Offer1</td>\n",
       "      <td>Call Center</td>\n",
       "      <td>SUV</td>\n",
       "      <td>Medsize</td>\n",
       "    </tr>\n",
       "    <tr>\n",
       "      <th>4</th>\n",
       "      <td>Washington</td>\n",
       "      <td>No</td>\n",
       "      <td>Basic</td>\n",
       "      <td>Bachelor</td>\n",
       "      <td>133</td>\n",
       "      <td>Employed</td>\n",
       "      <td>M</td>\n",
       "      <td>Rural</td>\n",
       "      <td>Single</td>\n",
       "      <td>Personal Auto</td>\n",
       "      <td>Personal L1</td>\n",
       "      <td>Offer1</td>\n",
       "      <td>Agent</td>\n",
       "      <td>Four-Door Car</td>\n",
       "      <td>Medsize</td>\n",
       "    </tr>\n",
       "    <tr>\n",
       "      <th>...</th>\n",
       "      <td>...</td>\n",
       "      <td>...</td>\n",
       "      <td>...</td>\n",
       "      <td>...</td>\n",
       "      <td>...</td>\n",
       "      <td>...</td>\n",
       "      <td>...</td>\n",
       "      <td>...</td>\n",
       "      <td>...</td>\n",
       "      <td>...</td>\n",
       "      <td>...</td>\n",
       "      <td>...</td>\n",
       "      <td>...</td>\n",
       "      <td>...</td>\n",
       "      <td>...</td>\n",
       "    </tr>\n",
       "    <tr>\n",
       "      <th>9129</th>\n",
       "      <td>California</td>\n",
       "      <td>No</td>\n",
       "      <td>Basic</td>\n",
       "      <td>Bachelor</td>\n",
       "      <td>133</td>\n",
       "      <td>Employed</td>\n",
       "      <td>M</td>\n",
       "      <td>Urban</td>\n",
       "      <td>Married</td>\n",
       "      <td>Personal Auto</td>\n",
       "      <td>Personal L1</td>\n",
       "      <td>Offer2</td>\n",
       "      <td>Web</td>\n",
       "      <td>Four-Door Car</td>\n",
       "      <td>Medsize</td>\n",
       "    </tr>\n",
       "    <tr>\n",
       "      <th>9130</th>\n",
       "      <td>California</td>\n",
       "      <td>Yes</td>\n",
       "      <td>Extended</td>\n",
       "      <td>College</td>\n",
       "      <td>133</td>\n",
       "      <td>Employed</td>\n",
       "      <td>F</td>\n",
       "      <td>Suburban</td>\n",
       "      <td>Divorced</td>\n",
       "      <td>Corporate Auto</td>\n",
       "      <td>Corporate L3</td>\n",
       "      <td>Offer1</td>\n",
       "      <td>Branch</td>\n",
       "      <td>Four-Door Car</td>\n",
       "      <td>Medsize</td>\n",
       "    </tr>\n",
       "    <tr>\n",
       "      <th>9131</th>\n",
       "      <td>California</td>\n",
       "      <td>No</td>\n",
       "      <td>Extended</td>\n",
       "      <td>Bachelor</td>\n",
       "      <td>133</td>\n",
       "      <td>Unemployed</td>\n",
       "      <td>M</td>\n",
       "      <td>Suburban</td>\n",
       "      <td>Single</td>\n",
       "      <td>Corporate Auto</td>\n",
       "      <td>Corporate L2</td>\n",
       "      <td>Offer1</td>\n",
       "      <td>Branch</td>\n",
       "      <td>Four-Door Car</td>\n",
       "      <td>Medsize</td>\n",
       "    </tr>\n",
       "    <tr>\n",
       "      <th>9132</th>\n",
       "      <td>California</td>\n",
       "      <td>No</td>\n",
       "      <td>Extended</td>\n",
       "      <td>College</td>\n",
       "      <td>133</td>\n",
       "      <td>Employed</td>\n",
       "      <td>M</td>\n",
       "      <td>Suburban</td>\n",
       "      <td>Married</td>\n",
       "      <td>Personal Auto</td>\n",
       "      <td>Personal L2</td>\n",
       "      <td>Offer3</td>\n",
       "      <td>Branch</td>\n",
       "      <td>Four-Door Car</td>\n",
       "      <td>Large</td>\n",
       "    </tr>\n",
       "    <tr>\n",
       "      <th>9133</th>\n",
       "      <td>California</td>\n",
       "      <td>No</td>\n",
       "      <td>Extended</td>\n",
       "      <td>College</td>\n",
       "      <td>133</td>\n",
       "      <td>Unemployed</td>\n",
       "      <td>M</td>\n",
       "      <td>Suburban</td>\n",
       "      <td>Single</td>\n",
       "      <td>Corporate Auto</td>\n",
       "      <td>Corporate L3</td>\n",
       "      <td>Offer4</td>\n",
       "      <td>Call Center</td>\n",
       "      <td>Two-Door Car</td>\n",
       "      <td>Medsize</td>\n",
       "    </tr>\n",
       "  </tbody>\n",
       "</table>\n",
       "<p>9134 rows × 15 columns</p>\n",
       "</div>"
      ],
      "text/plain": [
       "           State Response  Coverage Education  Effective To Date  \\\n",
       "0     Washington       No     Basic  Bachelor                133   \n",
       "1        Arizona       No  Extended  Bachelor                134   \n",
       "2         Nevada       No   Premium  Bachelor                133   \n",
       "3     California       No     Basic  Bachelor                134   \n",
       "4     Washington       No     Basic  Bachelor                133   \n",
       "...          ...      ...       ...       ...                ...   \n",
       "9129  California       No     Basic  Bachelor                133   \n",
       "9130  California      Yes  Extended   College                133   \n",
       "9131  California       No  Extended  Bachelor                133   \n",
       "9132  California       No  Extended   College                133   \n",
       "9133  California       No  Extended   College                133   \n",
       "\n",
       "     EmploymentStatus Gender Location Code Marital Status     Policy Type  \\\n",
       "0            Employed      F      Suburban        Married  Corporate Auto   \n",
       "1          Unemployed      F      Suburban         Single   Personal Auto   \n",
       "2            Employed      F      Suburban        Married   Personal Auto   \n",
       "3          Unemployed      M      Suburban        Married  Corporate Auto   \n",
       "4            Employed      M         Rural         Single   Personal Auto   \n",
       "...               ...    ...           ...            ...             ...   \n",
       "9129         Employed      M         Urban        Married   Personal Auto   \n",
       "9130         Employed      F      Suburban       Divorced  Corporate Auto   \n",
       "9131       Unemployed      M      Suburban         Single  Corporate Auto   \n",
       "9132         Employed      M      Suburban        Married   Personal Auto   \n",
       "9133       Unemployed      M      Suburban         Single  Corporate Auto   \n",
       "\n",
       "            Policy Renew Offer Type Sales Channel  Vehicle Class Vehicle Size  \n",
       "0     Corporate L3           Offer1         Agent   Two-Door Car      Medsize  \n",
       "1      Personal L3           Offer3         Agent  Four-Door Car      Medsize  \n",
       "2      Personal L3           Offer1         Agent   Two-Door Car      Medsize  \n",
       "3     Corporate L2           Offer1   Call Center            SUV      Medsize  \n",
       "4      Personal L1           Offer1         Agent  Four-Door Car      Medsize  \n",
       "...            ...              ...           ...            ...          ...  \n",
       "9129   Personal L1           Offer2           Web  Four-Door Car      Medsize  \n",
       "9130  Corporate L3           Offer1        Branch  Four-Door Car      Medsize  \n",
       "9131  Corporate L2           Offer1        Branch  Four-Door Car      Medsize  \n",
       "9132   Personal L2           Offer3        Branch  Four-Door Car        Large  \n",
       "9133  Corporate L3           Offer4   Call Center   Two-Door Car      Medsize  \n",
       "\n",
       "[9134 rows x 15 columns]"
      ]
     },
     "metadata": {},
     "output_type": "display_data"
    }
   ],
   "source": [
    "display(categorical_df)"
   ]
  },
  {
   "cell_type": "code",
   "execution_count": 155,
   "metadata": {},
   "outputs": [],
   "source": [
    "# 8. Compare policy_type and policy. What information is contained in these columns. Can you identify what is important?"
   ]
  },
  {
   "cell_type": "code",
   "execution_count": 159,
   "metadata": {},
   "outputs": [
    {
     "data": {
      "text/html": [
       "<div>\n",
       "<style scoped>\n",
       "    .dataframe tbody tr th:only-of-type {\n",
       "        vertical-align: middle;\n",
       "    }\n",
       "\n",
       "    .dataframe tbody tr th {\n",
       "        vertical-align: top;\n",
       "    }\n",
       "\n",
       "    .dataframe thead th {\n",
       "        text-align: right;\n",
       "    }\n",
       "</style>\n",
       "<table border=\"1\" class=\"dataframe\">\n",
       "  <thead>\n",
       "    <tr style=\"text-align: right;\">\n",
       "      <th>Policy</th>\n",
       "      <th>Corporate L1</th>\n",
       "      <th>Corporate L2</th>\n",
       "      <th>Corporate L3</th>\n",
       "      <th>Personal L1</th>\n",
       "      <th>Personal L2</th>\n",
       "      <th>Personal L3</th>\n",
       "      <th>Special L1</th>\n",
       "      <th>Special L2</th>\n",
       "      <th>Special L3</th>\n",
       "    </tr>\n",
       "    <tr>\n",
       "      <th>Policy Type</th>\n",
       "      <th></th>\n",
       "      <th></th>\n",
       "      <th></th>\n",
       "      <th></th>\n",
       "      <th></th>\n",
       "      <th></th>\n",
       "      <th></th>\n",
       "      <th></th>\n",
       "      <th></th>\n",
       "    </tr>\n",
       "  </thead>\n",
       "  <tbody>\n",
       "    <tr>\n",
       "      <th>Corporate Auto</th>\n",
       "      <td>359</td>\n",
       "      <td>595</td>\n",
       "      <td>1014</td>\n",
       "      <td>0</td>\n",
       "      <td>0</td>\n",
       "      <td>0</td>\n",
       "      <td>0</td>\n",
       "      <td>0</td>\n",
       "      <td>0</td>\n",
       "    </tr>\n",
       "    <tr>\n",
       "      <th>Personal Auto</th>\n",
       "      <td>0</td>\n",
       "      <td>0</td>\n",
       "      <td>0</td>\n",
       "      <td>1240</td>\n",
       "      <td>2122</td>\n",
       "      <td>3426</td>\n",
       "      <td>0</td>\n",
       "      <td>0</td>\n",
       "      <td>0</td>\n",
       "    </tr>\n",
       "    <tr>\n",
       "      <th>Special Auto</th>\n",
       "      <td>0</td>\n",
       "      <td>0</td>\n",
       "      <td>0</td>\n",
       "      <td>0</td>\n",
       "      <td>0</td>\n",
       "      <td>0</td>\n",
       "      <td>66</td>\n",
       "      <td>164</td>\n",
       "      <td>148</td>\n",
       "    </tr>\n",
       "  </tbody>\n",
       "</table>\n",
       "</div>"
      ],
      "text/plain": [
       "Policy          Corporate L1  Corporate L2  Corporate L3  Personal L1  \\\n",
       "Policy Type                                                             \n",
       "Corporate Auto           359           595          1014            0   \n",
       "Personal Auto              0             0             0         1240   \n",
       "Special Auto               0             0             0            0   \n",
       "\n",
       "Policy          Personal L2  Personal L3  Special L1  Special L2  Special L3  \n",
       "Policy Type                                                                   \n",
       "Corporate Auto            0            0           0           0           0  \n",
       "Personal Auto          2122         3426           0           0           0  \n",
       "Special Auto              0            0          66         164         148  "
      ]
     },
     "execution_count": 159,
     "metadata": {},
     "output_type": "execute_result"
    }
   ],
   "source": [
    "data_crosstab = pd.crosstab(categorical_df['Policy Type'], categorical_df['Policy'], margins = False)\n",
    "data_crosstab"
   ]
  },
  {
   "cell_type": "code",
   "execution_count": 161,
   "metadata": {},
   "outputs": [
    {
     "data": {
      "text/plain": [
       "(18268.0,\n",
       " 0.0,\n",
       " 16,\n",
       " array([[  77.3496825 ,  128.19794176,  218.4751478 ,  267.16881979,\n",
       "          457.20341581,  738.16159404,   14.22027589,   35.33523101,\n",
       "           31.88789139],\n",
       "        [ 266.79351872,  442.17867309,  753.56163784,  921.51521787,\n",
       "         1576.98007445, 2546.05736808,   49.04839063,  121.87781914,\n",
       "          109.9873002 ],\n",
       "        [  14.85679877,   24.62338515,   41.96321436,   51.31596234,\n",
       "           87.81650974,  141.78103788,    2.73133348,    6.78694986,\n",
       "            6.12480841]]))"
      ]
     },
     "execution_count": 161,
     "metadata": {},
     "output_type": "execute_result"
    }
   ],
   "source": [
    "st.chi2_contingency(data_crosstab.values)"
   ]
  },
  {
   "cell_type": "code",
   "execution_count": 162,
   "metadata": {},
   "outputs": [],
   "source": [
    "categorical_df = categorical_df.drop(columns=[\"Policy\"])"
   ]
  },
  {
   "cell_type": "code",
   "execution_count": 163,
   "metadata": {},
   "outputs": [
    {
     "data": {
      "text/html": [
       "<div>\n",
       "<style scoped>\n",
       "    .dataframe tbody tr th:only-of-type {\n",
       "        vertical-align: middle;\n",
       "    }\n",
       "\n",
       "    .dataframe tbody tr th {\n",
       "        vertical-align: top;\n",
       "    }\n",
       "\n",
       "    .dataframe thead th {\n",
       "        text-align: right;\n",
       "    }\n",
       "</style>\n",
       "<table border=\"1\" class=\"dataframe\">\n",
       "  <thead>\n",
       "    <tr style=\"text-align: right;\">\n",
       "      <th></th>\n",
       "      <th>State</th>\n",
       "      <th>Response</th>\n",
       "      <th>Coverage</th>\n",
       "      <th>Education</th>\n",
       "      <th>Effective To Date</th>\n",
       "      <th>EmploymentStatus</th>\n",
       "      <th>Gender</th>\n",
       "      <th>Location Code</th>\n",
       "      <th>Marital Status</th>\n",
       "      <th>Policy Type</th>\n",
       "      <th>Renew Offer Type</th>\n",
       "      <th>Sales Channel</th>\n",
       "      <th>Vehicle Class</th>\n",
       "      <th>Vehicle Size</th>\n",
       "    </tr>\n",
       "  </thead>\n",
       "  <tbody>\n",
       "    <tr>\n",
       "      <th>0</th>\n",
       "      <td>Washington</td>\n",
       "      <td>No</td>\n",
       "      <td>Basic</td>\n",
       "      <td>Bachelor</td>\n",
       "      <td>133</td>\n",
       "      <td>Employed</td>\n",
       "      <td>F</td>\n",
       "      <td>Suburban</td>\n",
       "      <td>Married</td>\n",
       "      <td>Corporate Auto</td>\n",
       "      <td>Offer1</td>\n",
       "      <td>Agent</td>\n",
       "      <td>Two-Door Car</td>\n",
       "      <td>Medsize</td>\n",
       "    </tr>\n",
       "    <tr>\n",
       "      <th>1</th>\n",
       "      <td>Arizona</td>\n",
       "      <td>No</td>\n",
       "      <td>Extended</td>\n",
       "      <td>Bachelor</td>\n",
       "      <td>134</td>\n",
       "      <td>Unemployed</td>\n",
       "      <td>F</td>\n",
       "      <td>Suburban</td>\n",
       "      <td>Single</td>\n",
       "      <td>Personal Auto</td>\n",
       "      <td>Offer3</td>\n",
       "      <td>Agent</td>\n",
       "      <td>Four-Door Car</td>\n",
       "      <td>Medsize</td>\n",
       "    </tr>\n",
       "    <tr>\n",
       "      <th>2</th>\n",
       "      <td>Nevada</td>\n",
       "      <td>No</td>\n",
       "      <td>Premium</td>\n",
       "      <td>Bachelor</td>\n",
       "      <td>133</td>\n",
       "      <td>Employed</td>\n",
       "      <td>F</td>\n",
       "      <td>Suburban</td>\n",
       "      <td>Married</td>\n",
       "      <td>Personal Auto</td>\n",
       "      <td>Offer1</td>\n",
       "      <td>Agent</td>\n",
       "      <td>Two-Door Car</td>\n",
       "      <td>Medsize</td>\n",
       "    </tr>\n",
       "    <tr>\n",
       "      <th>3</th>\n",
       "      <td>California</td>\n",
       "      <td>No</td>\n",
       "      <td>Basic</td>\n",
       "      <td>Bachelor</td>\n",
       "      <td>134</td>\n",
       "      <td>Unemployed</td>\n",
       "      <td>M</td>\n",
       "      <td>Suburban</td>\n",
       "      <td>Married</td>\n",
       "      <td>Corporate Auto</td>\n",
       "      <td>Offer1</td>\n",
       "      <td>Call Center</td>\n",
       "      <td>SUV</td>\n",
       "      <td>Medsize</td>\n",
       "    </tr>\n",
       "    <tr>\n",
       "      <th>4</th>\n",
       "      <td>Washington</td>\n",
       "      <td>No</td>\n",
       "      <td>Basic</td>\n",
       "      <td>Bachelor</td>\n",
       "      <td>133</td>\n",
       "      <td>Employed</td>\n",
       "      <td>M</td>\n",
       "      <td>Rural</td>\n",
       "      <td>Single</td>\n",
       "      <td>Personal Auto</td>\n",
       "      <td>Offer1</td>\n",
       "      <td>Agent</td>\n",
       "      <td>Four-Door Car</td>\n",
       "      <td>Medsize</td>\n",
       "    </tr>\n",
       "    <tr>\n",
       "      <th>...</th>\n",
       "      <td>...</td>\n",
       "      <td>...</td>\n",
       "      <td>...</td>\n",
       "      <td>...</td>\n",
       "      <td>...</td>\n",
       "      <td>...</td>\n",
       "      <td>...</td>\n",
       "      <td>...</td>\n",
       "      <td>...</td>\n",
       "      <td>...</td>\n",
       "      <td>...</td>\n",
       "      <td>...</td>\n",
       "      <td>...</td>\n",
       "      <td>...</td>\n",
       "    </tr>\n",
       "    <tr>\n",
       "      <th>9129</th>\n",
       "      <td>California</td>\n",
       "      <td>No</td>\n",
       "      <td>Basic</td>\n",
       "      <td>Bachelor</td>\n",
       "      <td>133</td>\n",
       "      <td>Employed</td>\n",
       "      <td>M</td>\n",
       "      <td>Urban</td>\n",
       "      <td>Married</td>\n",
       "      <td>Personal Auto</td>\n",
       "      <td>Offer2</td>\n",
       "      <td>Web</td>\n",
       "      <td>Four-Door Car</td>\n",
       "      <td>Medsize</td>\n",
       "    </tr>\n",
       "    <tr>\n",
       "      <th>9130</th>\n",
       "      <td>California</td>\n",
       "      <td>Yes</td>\n",
       "      <td>Extended</td>\n",
       "      <td>College</td>\n",
       "      <td>133</td>\n",
       "      <td>Employed</td>\n",
       "      <td>F</td>\n",
       "      <td>Suburban</td>\n",
       "      <td>Divorced</td>\n",
       "      <td>Corporate Auto</td>\n",
       "      <td>Offer1</td>\n",
       "      <td>Branch</td>\n",
       "      <td>Four-Door Car</td>\n",
       "      <td>Medsize</td>\n",
       "    </tr>\n",
       "    <tr>\n",
       "      <th>9131</th>\n",
       "      <td>California</td>\n",
       "      <td>No</td>\n",
       "      <td>Extended</td>\n",
       "      <td>Bachelor</td>\n",
       "      <td>133</td>\n",
       "      <td>Unemployed</td>\n",
       "      <td>M</td>\n",
       "      <td>Suburban</td>\n",
       "      <td>Single</td>\n",
       "      <td>Corporate Auto</td>\n",
       "      <td>Offer1</td>\n",
       "      <td>Branch</td>\n",
       "      <td>Four-Door Car</td>\n",
       "      <td>Medsize</td>\n",
       "    </tr>\n",
       "    <tr>\n",
       "      <th>9132</th>\n",
       "      <td>California</td>\n",
       "      <td>No</td>\n",
       "      <td>Extended</td>\n",
       "      <td>College</td>\n",
       "      <td>133</td>\n",
       "      <td>Employed</td>\n",
       "      <td>M</td>\n",
       "      <td>Suburban</td>\n",
       "      <td>Married</td>\n",
       "      <td>Personal Auto</td>\n",
       "      <td>Offer3</td>\n",
       "      <td>Branch</td>\n",
       "      <td>Four-Door Car</td>\n",
       "      <td>Large</td>\n",
       "    </tr>\n",
       "    <tr>\n",
       "      <th>9133</th>\n",
       "      <td>California</td>\n",
       "      <td>No</td>\n",
       "      <td>Extended</td>\n",
       "      <td>College</td>\n",
       "      <td>133</td>\n",
       "      <td>Unemployed</td>\n",
       "      <td>M</td>\n",
       "      <td>Suburban</td>\n",
       "      <td>Single</td>\n",
       "      <td>Corporate Auto</td>\n",
       "      <td>Offer4</td>\n",
       "      <td>Call Center</td>\n",
       "      <td>Two-Door Car</td>\n",
       "      <td>Medsize</td>\n",
       "    </tr>\n",
       "  </tbody>\n",
       "</table>\n",
       "<p>9134 rows × 14 columns</p>\n",
       "</div>"
      ],
      "text/plain": [
       "           State Response  Coverage Education  Effective To Date  \\\n",
       "0     Washington       No     Basic  Bachelor                133   \n",
       "1        Arizona       No  Extended  Bachelor                134   \n",
       "2         Nevada       No   Premium  Bachelor                133   \n",
       "3     California       No     Basic  Bachelor                134   \n",
       "4     Washington       No     Basic  Bachelor                133   \n",
       "...          ...      ...       ...       ...                ...   \n",
       "9129  California       No     Basic  Bachelor                133   \n",
       "9130  California      Yes  Extended   College                133   \n",
       "9131  California       No  Extended  Bachelor                133   \n",
       "9132  California       No  Extended   College                133   \n",
       "9133  California       No  Extended   College                133   \n",
       "\n",
       "     EmploymentStatus Gender Location Code Marital Status     Policy Type  \\\n",
       "0            Employed      F      Suburban        Married  Corporate Auto   \n",
       "1          Unemployed      F      Suburban         Single   Personal Auto   \n",
       "2            Employed      F      Suburban        Married   Personal Auto   \n",
       "3          Unemployed      M      Suburban        Married  Corporate Auto   \n",
       "4            Employed      M         Rural         Single   Personal Auto   \n",
       "...               ...    ...           ...            ...             ...   \n",
       "9129         Employed      M         Urban        Married   Personal Auto   \n",
       "9130         Employed      F      Suburban       Divorced  Corporate Auto   \n",
       "9131       Unemployed      M      Suburban         Single  Corporate Auto   \n",
       "9132         Employed      M      Suburban        Married   Personal Auto   \n",
       "9133       Unemployed      M      Suburban         Single  Corporate Auto   \n",
       "\n",
       "     Renew Offer Type Sales Channel  Vehicle Class Vehicle Size  \n",
       "0              Offer1         Agent   Two-Door Car      Medsize  \n",
       "1              Offer3         Agent  Four-Door Car      Medsize  \n",
       "2              Offer1         Agent   Two-Door Car      Medsize  \n",
       "3              Offer1   Call Center            SUV      Medsize  \n",
       "4              Offer1         Agent  Four-Door Car      Medsize  \n",
       "...               ...           ...            ...          ...  \n",
       "9129           Offer2           Web  Four-Door Car      Medsize  \n",
       "9130           Offer1        Branch  Four-Door Car      Medsize  \n",
       "9131           Offer1        Branch  Four-Door Car      Medsize  \n",
       "9132           Offer3        Branch  Four-Door Car        Large  \n",
       "9133           Offer4   Call Center   Two-Door Car      Medsize  \n",
       "\n",
       "[9134 rows x 14 columns]"
      ]
     },
     "metadata": {},
     "output_type": "display_data"
    }
   ],
   "source": [
    "display(categorical_df)"
   ]
  },
  {
   "cell_type": "code",
   "execution_count": 164,
   "metadata": {},
   "outputs": [],
   "source": [
    "# 9. Check number of unique values in each column, can they be combined in any way to ease encoding?\n",
    "# Comment your thoughts and make those changes."
   ]
  },
  {
   "cell_type": "code",
   "execution_count": 165,
   "metadata": {},
   "outputs": [
    {
     "name": "stdout",
     "output_type": "stream",
     "text": [
      "State\n"
     ]
    },
    {
     "data": {
      "text/plain": [
       "array(['Washington', 'Arizona', 'Nevada', 'California', 'Oregon'],\n",
       "      dtype=object)"
      ]
     },
     "metadata": {},
     "output_type": "display_data"
    },
    {
     "data": {
      "text/plain": [
       "California    3150\n",
       "Oregon        2601\n",
       "Arizona       1703\n",
       "Nevada         882\n",
       "Washington     798\n",
       "Name: State, dtype: int64"
      ]
     },
     "metadata": {},
     "output_type": "display_data"
    },
    {
     "name": "stdout",
     "output_type": "stream",
     "text": [
      "Response\n"
     ]
    },
    {
     "data": {
      "text/plain": [
       "array(['No', 'Yes'], dtype=object)"
      ]
     },
     "metadata": {},
     "output_type": "display_data"
    },
    {
     "data": {
      "text/plain": [
       "No     7826\n",
       "Yes    1308\n",
       "Name: Response, dtype: int64"
      ]
     },
     "metadata": {},
     "output_type": "display_data"
    },
    {
     "name": "stdout",
     "output_type": "stream",
     "text": [
      "Coverage\n"
     ]
    },
    {
     "data": {
      "text/plain": [
       "array(['Basic', 'Extended', 'Premium'], dtype=object)"
      ]
     },
     "metadata": {},
     "output_type": "display_data"
    },
    {
     "data": {
      "text/plain": [
       "Basic       5568\n",
       "Extended    2742\n",
       "Premium      824\n",
       "Name: Coverage, dtype: int64"
      ]
     },
     "metadata": {},
     "output_type": "display_data"
    },
    {
     "name": "stdout",
     "output_type": "stream",
     "text": [
      "Education\n"
     ]
    },
    {
     "data": {
      "text/plain": [
       "array(['Bachelor', 'College', 'Master', 'High School or Below', 'Doctor'],\n",
       "      dtype=object)"
      ]
     },
     "metadata": {},
     "output_type": "display_data"
    },
    {
     "data": {
      "text/plain": [
       "Bachelor                2748\n",
       "College                 2681\n",
       "High School or Below    2622\n",
       "Master                   741\n",
       "Doctor                   342\n",
       "Name: Education, dtype: int64"
      ]
     },
     "metadata": {},
     "output_type": "display_data"
    },
    {
     "name": "stdout",
     "output_type": "stream",
     "text": [
      "Effective To Date\n"
     ]
    },
    {
     "data": {
      "text/plain": [
       "array([133, 134], dtype=int64)"
      ]
     },
     "metadata": {},
     "output_type": "display_data"
    },
    {
     "data": {
      "text/plain": [
       "134    4898\n",
       "133    4236\n",
       "Name: Effective To Date, dtype: int64"
      ]
     },
     "metadata": {},
     "output_type": "display_data"
    },
    {
     "name": "stdout",
     "output_type": "stream",
     "text": [
      "EmploymentStatus\n"
     ]
    },
    {
     "data": {
      "text/plain": [
       "array(['Employed', 'Unemployed', 'Medical Leave', 'Disabled', 'Retired'],\n",
       "      dtype=object)"
      ]
     },
     "metadata": {},
     "output_type": "display_data"
    },
    {
     "data": {
      "text/plain": [
       "Employed         5698\n",
       "Unemployed       2317\n",
       "Medical Leave     432\n",
       "Disabled          405\n",
       "Retired           282\n",
       "Name: EmploymentStatus, dtype: int64"
      ]
     },
     "metadata": {},
     "output_type": "display_data"
    },
    {
     "name": "stdout",
     "output_type": "stream",
     "text": [
      "Gender\n"
     ]
    },
    {
     "data": {
      "text/plain": [
       "array(['F', 'M'], dtype=object)"
      ]
     },
     "metadata": {},
     "output_type": "display_data"
    },
    {
     "data": {
      "text/plain": [
       "F    4658\n",
       "M    4476\n",
       "Name: Gender, dtype: int64"
      ]
     },
     "metadata": {},
     "output_type": "display_data"
    },
    {
     "name": "stdout",
     "output_type": "stream",
     "text": [
      "Location Code\n"
     ]
    },
    {
     "data": {
      "text/plain": [
       "array(['Suburban', 'Rural', 'Urban'], dtype=object)"
      ]
     },
     "metadata": {},
     "output_type": "display_data"
    },
    {
     "data": {
      "text/plain": [
       "Suburban    5779\n",
       "Rural       1773\n",
       "Urban       1582\n",
       "Name: Location Code, dtype: int64"
      ]
     },
     "metadata": {},
     "output_type": "display_data"
    },
    {
     "name": "stdout",
     "output_type": "stream",
     "text": [
      "Marital Status\n"
     ]
    },
    {
     "data": {
      "text/plain": [
       "array(['Married', 'Single', 'Divorced'], dtype=object)"
      ]
     },
     "metadata": {},
     "output_type": "display_data"
    },
    {
     "data": {
      "text/plain": [
       "Married     5298\n",
       "Single      2467\n",
       "Divorced    1369\n",
       "Name: Marital Status, dtype: int64"
      ]
     },
     "metadata": {},
     "output_type": "display_data"
    },
    {
     "name": "stdout",
     "output_type": "stream",
     "text": [
      "Policy Type\n"
     ]
    },
    {
     "data": {
      "text/plain": [
       "array(['Corporate Auto', 'Personal Auto', 'Special Auto'], dtype=object)"
      ]
     },
     "metadata": {},
     "output_type": "display_data"
    },
    {
     "data": {
      "text/plain": [
       "Personal Auto     6788\n",
       "Corporate Auto    1968\n",
       "Special Auto       378\n",
       "Name: Policy Type, dtype: int64"
      ]
     },
     "metadata": {},
     "output_type": "display_data"
    },
    {
     "name": "stdout",
     "output_type": "stream",
     "text": [
      "Renew Offer Type\n"
     ]
    },
    {
     "data": {
      "text/plain": [
       "array(['Offer1', 'Offer3', 'Offer2', 'Offer4'], dtype=object)"
      ]
     },
     "metadata": {},
     "output_type": "display_data"
    },
    {
     "data": {
      "text/plain": [
       "Offer1    3752\n",
       "Offer2    2926\n",
       "Offer3    1432\n",
       "Offer4    1024\n",
       "Name: Renew Offer Type, dtype: int64"
      ]
     },
     "metadata": {},
     "output_type": "display_data"
    },
    {
     "name": "stdout",
     "output_type": "stream",
     "text": [
      "Sales Channel\n"
     ]
    },
    {
     "data": {
      "text/plain": [
       "array(['Agent', 'Call Center', 'Web', 'Branch'], dtype=object)"
      ]
     },
     "metadata": {},
     "output_type": "display_data"
    },
    {
     "data": {
      "text/plain": [
       "Agent          3477\n",
       "Branch         2567\n",
       "Call Center    1765\n",
       "Web            1325\n",
       "Name: Sales Channel, dtype: int64"
      ]
     },
     "metadata": {},
     "output_type": "display_data"
    },
    {
     "name": "stdout",
     "output_type": "stream",
     "text": [
      "Vehicle Class\n"
     ]
    },
    {
     "data": {
      "text/plain": [
       "array(['Two-Door Car', 'Four-Door Car', 'SUV', 'Luxury SUV', 'Sports Car',\n",
       "       'Luxury Car'], dtype=object)"
      ]
     },
     "metadata": {},
     "output_type": "display_data"
    },
    {
     "data": {
      "text/plain": [
       "Four-Door Car    4621\n",
       "Two-Door Car     1886\n",
       "SUV              1796\n",
       "Sports Car        484\n",
       "Luxury SUV        184\n",
       "Luxury Car        163\n",
       "Name: Vehicle Class, dtype: int64"
      ]
     },
     "metadata": {},
     "output_type": "display_data"
    },
    {
     "name": "stdout",
     "output_type": "stream",
     "text": [
      "Vehicle Size\n"
     ]
    },
    {
     "data": {
      "text/plain": [
       "array(['Medsize', 'Small', 'Large'], dtype=object)"
      ]
     },
     "metadata": {},
     "output_type": "display_data"
    },
    {
     "data": {
      "text/plain": [
       "Medsize    6424\n",
       "Small      1764\n",
       "Large       946\n",
       "Name: Vehicle Size, dtype: int64"
      ]
     },
     "metadata": {},
     "output_type": "display_data"
    }
   ],
   "source": [
    "check_unique(categorical_df)"
   ]
  },
  {
   "cell_type": "code",
   "execution_count": 166,
   "metadata": {},
   "outputs": [],
   "source": [
    "# I would keep it like this!!!"
   ]
  },
  {
   "cell_type": "code",
   "execution_count": null,
   "metadata": {},
   "outputs": [],
   "source": []
  }
 ],
 "metadata": {
  "kernelspec": {
   "display_name": "Python 3",
   "language": "python",
   "name": "python3"
  },
  "language_info": {
   "codemirror_mode": {
    "name": "ipython",
    "version": 3
   },
   "file_extension": ".py",
   "mimetype": "text/x-python",
   "name": "python",
   "nbconvert_exporter": "python",
   "pygments_lexer": "ipython3",
   "version": "3.8.3"
  }
 },
 "nbformat": 4,
 "nbformat_minor": 4
}
